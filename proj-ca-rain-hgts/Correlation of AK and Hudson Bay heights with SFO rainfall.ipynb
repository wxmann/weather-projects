{
 "cells": [
  {
   "cell_type": "code",
   "execution_count": 3,
   "metadata": {
    "collapsed": true
   },
   "outputs": [],
   "source": [
    "# %load_ext autoreload\n",
    "# %autoreload 2\n",
    "\n",
    "# import sys\n",
    "# sys.path.append('..')"
   ]
  },
  {
   "cell_type": "code",
   "execution_count": 740,
   "metadata": {
    "collapsed": true
   },
   "outputs": [],
   "source": [
    "import pandas as pd\n",
    "import xarray as xr\n",
    "import numpy as np\n",
    "import matplotlib.pyplot as plt\n",
    "\n",
    "from lib.obs import hourly_precip\n",
    "from lib.enso import oni_trimonthly"
   ]
  },
  {
   "cell_type": "markdown",
   "metadata": {},
   "source": [
    "## Load SFO rainfall"
   ]
  },
  {
   "cell_type": "code",
   "execution_count": 262,
   "metadata": {
    "collapsed": false
   },
   "outputs": [],
   "source": [
    "sfo_precip = hourly_precip('SFO', '1960-07-01', '2021-06-30', filter_measurable=False)"
   ]
  },
  {
   "cell_type": "code",
   "execution_count": 263,
   "metadata": {
    "collapsed": false
   },
   "outputs": [],
   "source": [
    "sfo_monthly = sfo_precip[['valid', 'precip_in']].resample('M', on='valid').sum().reset_index()\n",
    "sfo_monthly['valid'] = sfo_monthly['valid'].to_numpy().astype('datetime64[M]')"
   ]
  },
  {
   "cell_type": "code",
   "execution_count": 264,
   "metadata": {
    "collapsed": false
   },
   "outputs": [
    {
     "data": {
      "text/html": [
       "<div>\n",
       "<style scoped>\n",
       "    .dataframe tbody tr th:only-of-type {\n",
       "        vertical-align: middle;\n",
       "    }\n",
       "\n",
       "    .dataframe tbody tr th {\n",
       "        vertical-align: top;\n",
       "    }\n",
       "\n",
       "    .dataframe thead th {\n",
       "        text-align: right;\n",
       "    }\n",
       "</style>\n",
       "<table border=\"1\" class=\"dataframe\">\n",
       "  <thead>\n",
       "    <tr style=\"text-align: right;\">\n",
       "      <th></th>\n",
       "      <th>valid</th>\n",
       "      <th>precip_in</th>\n",
       "    </tr>\n",
       "  </thead>\n",
       "  <tbody>\n",
       "    <tr>\n",
       "      <th>0</th>\n",
       "      <td>1960-07-01</td>\n",
       "      <td>0.00</td>\n",
       "    </tr>\n",
       "    <tr>\n",
       "      <th>1</th>\n",
       "      <td>1960-08-01</td>\n",
       "      <td>0.00</td>\n",
       "    </tr>\n",
       "    <tr>\n",
       "      <th>2</th>\n",
       "      <td>1960-09-01</td>\n",
       "      <td>0.00</td>\n",
       "    </tr>\n",
       "    <tr>\n",
       "      <th>3</th>\n",
       "      <td>1960-10-01</td>\n",
       "      <td>0.28</td>\n",
       "    </tr>\n",
       "    <tr>\n",
       "      <th>4</th>\n",
       "      <td>1960-11-01</td>\n",
       "      <td>4.15</td>\n",
       "    </tr>\n",
       "  </tbody>\n",
       "</table>\n",
       "</div>"
      ],
      "text/plain": [
       "       valid  precip_in\n",
       "0 1960-07-01       0.00\n",
       "1 1960-08-01       0.00\n",
       "2 1960-09-01       0.00\n",
       "3 1960-10-01       0.28\n",
       "4 1960-11-01       4.15"
      ]
     },
     "execution_count": 264,
     "metadata": {},
     "output_type": "execute_result"
    }
   ],
   "source": [
    "sfo_monthly.head()"
   ]
  },
  {
   "cell_type": "markdown",
   "metadata": {},
   "source": [
    "## Load ONI trimonthly"
   ]
  },
  {
   "cell_type": "code",
   "execution_count": 852,
   "metadata": {
    "collapsed": true
   },
   "outputs": [],
   "source": [
    "oni = oni_trimonthly()"
   ]
  },
  {
   "cell_type": "code",
   "execution_count": 853,
   "metadata": {
    "collapsed": false
   },
   "outputs": [
    {
     "data": {
      "text/html": [
       "<div>\n",
       "<style scoped>\n",
       "    .dataframe tbody tr th:only-of-type {\n",
       "        vertical-align: middle;\n",
       "    }\n",
       "\n",
       "    .dataframe tbody tr th {\n",
       "        vertical-align: top;\n",
       "    }\n",
       "\n",
       "    .dataframe thead th {\n",
       "        text-align: right;\n",
       "    }\n",
       "</style>\n",
       "<table border=\"1\" class=\"dataframe\">\n",
       "  <thead>\n",
       "    <tr style=\"text-align: right;\">\n",
       "      <th></th>\n",
       "      <th>date</th>\n",
       "      <th>ANOM</th>\n",
       "    </tr>\n",
       "  </thead>\n",
       "  <tbody>\n",
       "    <tr>\n",
       "      <th>0</th>\n",
       "      <td>1950-01-01</td>\n",
       "      <td>-1.53</td>\n",
       "    </tr>\n",
       "    <tr>\n",
       "      <th>1</th>\n",
       "      <td>1950-02-01</td>\n",
       "      <td>-1.34</td>\n",
       "    </tr>\n",
       "    <tr>\n",
       "      <th>2</th>\n",
       "      <td>1950-03-01</td>\n",
       "      <td>-1.16</td>\n",
       "    </tr>\n",
       "    <tr>\n",
       "      <th>3</th>\n",
       "      <td>1950-04-01</td>\n",
       "      <td>-1.18</td>\n",
       "    </tr>\n",
       "    <tr>\n",
       "      <th>4</th>\n",
       "      <td>1950-05-01</td>\n",
       "      <td>-1.07</td>\n",
       "    </tr>\n",
       "  </tbody>\n",
       "</table>\n",
       "</div>"
      ],
      "text/plain": [
       "        date  ANOM\n",
       "0 1950-01-01 -1.53\n",
       "1 1950-02-01 -1.34\n",
       "2 1950-03-01 -1.16\n",
       "3 1950-04-01 -1.18\n",
       "4 1950-05-01 -1.07"
      ]
     },
     "execution_count": 853,
     "metadata": {},
     "output_type": "execute_result"
    }
   ],
   "source": [
    "oni['day'] = 1\n",
    "oni['year'] = oni.YR\n",
    "oni['date'] = pd.to_datetime(oni[['year', 'MONTH', 'day']])\n",
    "oni = oni[['date', 'ANOM']]\n",
    "\n",
    "oni.head()"
   ]
  },
  {
   "cell_type": "markdown",
   "metadata": {},
   "source": [
    "## Load NCEP Reanalysis R1"
   ]
  },
  {
   "cell_type": "code",
   "execution_count": 854,
   "metadata": {
    "collapsed": false
   },
   "outputs": [
    {
     "name": "stderr",
     "output_type": "stream",
     "text": [
      "/Users/jitang/anaconda/envs/weather-env-2/lib/python3.8/site-packages/xarray/coding/times.py:463: SerializationWarning: Unable to decode time axis into full numpy.datetime64 objects, continuing using cftime.datetime objects instead, reason: dates out of range\n",
      "  dtype = _decode_cf_datetime_dtype(data, units, calendar, self.use_cftime)\n",
      "/Users/jitang/anaconda/envs/weather-env-2/lib/python3.8/site-packages/xarray/coding/times.py:83: SerializationWarning: Ambiguous reference date string: 1-1-1 00:00:0.0. The first value is assumed to be the year hence will be padded with zeros to remove the ambiguity (the padded reference date string is: 0001-1-1 00:00:0.0). To remove this message, remove the ambiguity by padding your reference date strings with zeros.\n",
      "  warnings.warn(warning_msg, SerializationWarning)\n",
      "/Users/jitang/anaconda/envs/weather-env-2/lib/python3.8/site-packages/xarray/core/indexing.py:568: SerializationWarning: Unable to decode time axis into full numpy.datetime64 objects, continuing using cftime.datetime objects instead, reason: dates out of range\n",
      "  return np.asarray(array[self.key], dtype=None)\n"
     ]
    }
   ],
   "source": [
    "ds_mon = xr.open_dataset('hgt.mon.mean.nc')\n",
    "ds_mon_mean = xr.open_dataset('hgt.mon.ltm.nc')"
   ]
  },
  {
   "cell_type": "code",
   "execution_count": 855,
   "metadata": {
    "collapsed": true
   },
   "outputs": [],
   "source": [
    "def coerce_ltm_ds(ds, years):\n",
    "    orig_times = ds.time.values\n",
    "    concat_datasets = []\n",
    "    for year in years:\n",
    "        ds_for_year = ds.copy()\n",
    "        newtimes = np.array([pd.Timestamp(year=year,\n",
    "                                          month=t.month,\n",
    "                                          day=t.day,\n",
    "                                          hour=t.hour,\n",
    "                                          minute=t.minute) for t in orig_times])\n",
    "        ds_for_year['time'] = newtimes\n",
    "        concat_datasets.append(ds_for_year)\n",
    "\n",
    "    print(f'Creating long-term mean timeseries of {product}')\n",
    "    return xr.concat(concat_datasets, dim='time')"
   ]
  },
  {
   "cell_type": "code",
   "execution_count": 856,
   "metadata": {
    "collapsed": false
   },
   "outputs": [
    {
     "name": "stdout",
     "output_type": "stream",
     "text": [
      "Creating long-term mean timeseries of pressure/hgt\n"
     ]
    },
    {
     "name": "stderr",
     "output_type": "stream",
     "text": [
      "/Users/jitang/anaconda/envs/weather-env-2/lib/python3.8/site-packages/xarray/coding/times.py:83: SerializationWarning: Ambiguous reference date string: 1-1-1 00:00:0.0. The first value is assumed to be the year hence will be padded with zeros to remove the ambiguity (the padded reference date string is: 0001-1-1 00:00:0.0). To remove this message, remove the ambiguity by padding your reference date strings with zeros.\n",
      "  warnings.warn(warning_msg, SerializationWarning)\n"
     ]
    }
   ],
   "source": [
    "ds_mon_mean = coerce_ltm_ds(ds_mon_mean, range(1960, 2021))"
   ]
  },
  {
   "cell_type": "code",
   "execution_count": 857,
   "metadata": {
    "collapsed": false
   },
   "outputs": [],
   "source": [
    "def subset(p, years, months, bbox):\n",
    "    def func(ds):\n",
    "        kw = {}\n",
    "        kw['level'] = p\n",
    "        \n",
    "        north, west, south, east = bbox\n",
    "        kw['lon'] = slice(west, east)\n",
    "        kw['lat'] = slice(north, south)\n",
    "        \n",
    "        time_query = np.in1d(ds['time.month'], months) & (np.in1d(ds['time.year'], years))\n",
    "        kw['time'] = time_query\n",
    "        \n",
    "        return ds.sel(**kw)\n",
    "    \n",
    "    return func"
   ]
  },
  {
   "cell_type": "code",
   "execution_count": 858,
   "metadata": {
    "collapsed": false
   },
   "outputs": [],
   "source": [
    "# aleutians_bbox = (55, 170, 40, 200) # bad\n",
    "aleutians_bbox = (65, 180, 45, 205)\n",
    "hudson_bay_bbox = (65, 260, 50, 290)\n",
    "\n",
    "years = range(1960, 2021)\n",
    "djf = [12, 1, 2]\n",
    "p = 500"
   ]
  },
  {
   "cell_type": "code",
   "execution_count": 859,
   "metadata": {
    "collapsed": false
   },
   "outputs": [],
   "source": [
    "aleutians = subset(p, years, djf, aleutians_bbox)\n",
    "hudson_bay = subset(p, years, djf, hudson_bay_bbox)\n",
    "\n",
    "h5_hgts_aleutians = aleutians(ds_mon)\n",
    "h5_norms_aleutians = aleutians(ds_mon_mean)\n",
    "\n",
    "h5_hgts_hudson = hudson_bay(ds_mon)\n",
    "h5_norms_hudson = hudson_bay(ds_mon_mean)"
   ]
  },
  {
   "cell_type": "code",
   "execution_count": 860,
   "metadata": {
    "collapsed": false
   },
   "outputs": [],
   "source": [
    "h5_anoms_aleutians = h5_hgts_aleutians - h5_norms_aleutians\n",
    "h5_anoms_hudson = h5_hgts_hudson - h5_norms_hudson\n",
    "\n",
    "# h5_anoms_aleutians = h5_anoms_aleutians.sel(time=slice('1970-07-01', '2021-03-01'))\n",
    "# h5_anoms_hudson = h5_anoms_hudson.sel(time=slice('1970-07-01', '2021-03-01'))"
   ]
  },
  {
   "cell_type": "code",
   "execution_count": 861,
   "metadata": {
    "collapsed": false
   },
   "outputs": [],
   "source": [
    "aleutians_anom_means = h5_anoms_aleutians.hgt.mean(['lat', 'lon'])\n",
    "hudson_anom_means = h5_anoms_hudson.hgt.mean(['lat', 'lon'])"
   ]
  },
  {
   "cell_type": "code",
   "execution_count": 862,
   "metadata": {
    "collapsed": true
   },
   "outputs": [],
   "source": [
    "def correlation(x, y):\n",
    "    correlation_matrix = np.corrcoef(x, y)\n",
    "    correlation_xy = correlation_matrix[0,1]\n",
    "    return correlation_xy"
   ]
  },
  {
   "cell_type": "code",
   "execution_count": 863,
   "metadata": {
    "collapsed": false
   },
   "outputs": [
    {
     "data": {
      "text/plain": [
       "-0.39670909049049224"
      ]
     },
     "execution_count": 863,
     "metadata": {},
     "output_type": "execute_result"
    }
   ],
   "source": [
    "correlation(aleutians_anom_means.values, hudson_anom_means.values)"
   ]
  },
  {
   "cell_type": "code",
   "execution_count": 864,
   "metadata": {
    "collapsed": false
   },
   "outputs": [
    {
     "data": {
      "text/plain": [
       "<matplotlib.collections.PathCollection at 0x12cf00d30>"
      ]
     },
     "execution_count": 864,
     "metadata": {},
     "output_type": "execute_result"
    },
    {
     "data": {
      "image/png": "[encoded data removed]",
      "text/plain": [
       "<Figure size 432x288 with 1 Axes>"
      ]
     },
     "metadata": {
      "needs_background": "light"
     },
     "output_type": "display_data"
    }
   ],
   "source": [
    "# plt.figure(figsize=(16, 16))\n",
    "\n",
    "plt.scatter(aleutians_anom_means.values, hudson_anom_means.values)"
   ]
  },
  {
   "cell_type": "code",
   "execution_count": 865,
   "metadata": {
    "collapsed": false
   },
   "outputs": [],
   "source": [
    "aleutians_anom_df = aleutians_anom_means.to_dataframe().reset_index()[['time', 'hgt']]\n",
    "hudson_anom_df = hudson_anom_means.to_dataframe().reset_index()[['time', 'hgt']]"
   ]
  },
  {
   "cell_type": "markdown",
   "metadata": {},
   "source": [
    "## Merge together SFO rainfall, Aleutian heights, Hudson Bay heights, and ONI"
   ]
  },
  {
   "cell_type": "code",
   "execution_count": 866,
   "metadata": {
    "collapsed": false
   },
   "outputs": [],
   "source": [
    "full_df = sfo_monthly.merge(aleutians_anom_df, left_on='valid', right_on='time', how='right')\n",
    "full_df = full_df.merge(hudson_anom_df, left_on='valid', right_on='time', \n",
    "                        how='inner', suffixes=['_al', '_hb'])\n",
    "full_df = full_df[['valid','precip_in', 'hgt_al', 'hgt_hb']]\n",
    "full_df = full_df.merge(oni, left_on='valid', right_on='date', how='left').rename(columns={'ANOM': 'oni'})"
   ]
  },
  {
   "cell_type": "code",
   "execution_count": 867,
   "metadata": {
    "collapsed": false
   },
   "outputs": [
    {
     "data": {
      "text/html": [
       "<div>\n",
       "<style scoped>\n",
       "    .dataframe tbody tr th:only-of-type {\n",
       "        vertical-align: middle;\n",
       "    }\n",
       "\n",
       "    .dataframe tbody tr th {\n",
       "        vertical-align: top;\n",
       "    }\n",
       "\n",
       "    .dataframe thead th {\n",
       "        text-align: right;\n",
       "    }\n",
       "</style>\n",
       "<table border=\"1\" class=\"dataframe\">\n",
       "  <thead>\n",
       "    <tr style=\"text-align: right;\">\n",
       "      <th></th>\n",
       "      <th>valid</th>\n",
       "      <th>precip_in</th>\n",
       "      <th>hgt_al</th>\n",
       "      <th>hgt_hb</th>\n",
       "      <th>date</th>\n",
       "      <th>oni</th>\n",
       "    </tr>\n",
       "  </thead>\n",
       "  <tbody>\n",
       "    <tr>\n",
       "      <th>0</th>\n",
       "      <td>1960-12-01</td>\n",
       "      <td>1.16</td>\n",
       "      <td>-37.935349</td>\n",
       "      <td>-33.905144</td>\n",
       "      <td>1960-12-01</td>\n",
       "      <td>0.05</td>\n",
       "    </tr>\n",
       "    <tr>\n",
       "      <th>1</th>\n",
       "      <td>1961-01-01</td>\n",
       "      <td>2.63</td>\n",
       "      <td>-51.418720</td>\n",
       "      <td>-2.298860</td>\n",
       "      <td>1961-01-01</td>\n",
       "      <td>0.04</td>\n",
       "    </tr>\n",
       "    <tr>\n",
       "      <th>2</th>\n",
       "      <td>1961-02-01</td>\n",
       "      <td>1.18</td>\n",
       "      <td>-35.432648</td>\n",
       "      <td>55.791924</td>\n",
       "      <td>1961-02-01</td>\n",
       "      <td>0.03</td>\n",
       "    </tr>\n",
       "    <tr>\n",
       "      <th>3</th>\n",
       "      <td>1961-12-01</td>\n",
       "      <td>1.88</td>\n",
       "      <td>51.670059</td>\n",
       "      <td>64.212524</td>\n",
       "      <td>1961-12-01</td>\n",
       "      <td>-0.16</td>\n",
       "    </tr>\n",
       "    <tr>\n",
       "      <th>4</th>\n",
       "      <td>1962-01-01</td>\n",
       "      <td>1.70</td>\n",
       "      <td>114.406311</td>\n",
       "      <td>-93.969200</td>\n",
       "      <td>1962-01-01</td>\n",
       "      <td>-0.24</td>\n",
       "    </tr>\n",
       "  </tbody>\n",
       "</table>\n",
       "</div>"
      ],
      "text/plain": [
       "       valid  precip_in      hgt_al     hgt_hb       date   oni\n",
       "0 1960-12-01       1.16  -37.935349 -33.905144 1960-12-01  0.05\n",
       "1 1961-01-01       2.63  -51.418720  -2.298860 1961-01-01  0.04\n",
       "2 1961-02-01       1.18  -35.432648  55.791924 1961-02-01  0.03\n",
       "3 1961-12-01       1.88   51.670059  64.212524 1961-12-01 -0.16\n",
       "4 1962-01-01       1.70  114.406311 -93.969200 1962-01-01 -0.24"
      ]
     },
     "execution_count": 867,
     "metadata": {},
     "output_type": "execute_result"
    }
   ],
   "source": [
    "full_df.head()"
   ]
  },
  {
   "cell_type": "code",
   "execution_count": 990,
   "metadata": {
    "collapsed": true
   },
   "outputs": [],
   "source": [
    "full_df_nonino = full_df[full_df.oni < 1.5]"
   ]
  },
  {
   "cell_type": "code",
   "execution_count": 991,
   "metadata": {
    "collapsed": false
   },
   "outputs": [
    {
     "data": {
      "text/plain": [
       "(2.9448, 2.8175236674833326, 3.54230773480663)"
      ]
     },
     "execution_count": 991,
     "metadata": {},
     "output_type": "execute_result"
    }
   ],
   "source": [
    "mean = full_df.precip_in.mean()\n",
    "median = full_df.precip_in.median()\n",
    "sd = full_df.precip_in.std()\n",
    "\n",
    "median, sd, mean"
   ]
  },
  {
   "cell_type": "code",
   "execution_count": 870,
   "metadata": {
    "collapsed": false
   },
   "outputs": [
    {
     "data": {
      "text/plain": [
       "(49, 50, 75)"
      ]
     },
     "execution_count": 870,
     "metadata": {},
     "output_type": "execute_result"
    }
   ],
   "source": [
    "low_bucket = full_df[full_df.precip_in <= mean - 0.75*sd]\n",
    "high_bucket = full_df[full_df.precip_in >= mean + 0.5*sd]\n",
    "mean_bucket = full_df[(full_df.precip_in > mean - 0.67*sd) & (full_df.precip_in < mean + 0.5*sd)]\n",
    "# median_bucket = full_df[(full_df.precip_in >= median - sd) & (full_df.precip_in <= median + sd)]\n",
    "\n",
    "len(low_bucket), len(high_bucket), len(mean_bucket)"
   ]
  },
  {
   "cell_type": "code",
   "execution_count": 871,
   "metadata": {
    "collapsed": false
   },
   "outputs": [
    {
     "data": {
      "text/plain": [
       "(71.561325, 59.561466)"
      ]
     },
     "execution_count": 871,
     "metadata": {},
     "output_type": "execute_result"
    }
   ],
   "source": [
    "full_df.hgt_al.std(), full_df.hgt_hb.std()"
   ]
  },
  {
   "cell_type": "code",
   "execution_count": 889,
   "metadata": {
    "collapsed": false
   },
   "outputs": [
    {
     "data": {
      "text/plain": [
       "(-180.0, 180.0)"
      ]
     },
     "execution_count": 889,
     "metadata": {},
     "output_type": "execute_result"
    },
    {
     "data": {
      "image/png": "[encoded data removed]",
      "text/plain": [
       "<Figure size 864x864 with 1 Axes>"
      ]
     },
     "metadata": {
      "needs_background": "light"
     },
     "output_type": "display_data"
    }
   ],
   "source": [
    "plt.figure(figsize=(12, 12))\n",
    "plt.scatter(low_bucket.hgt_al, low_bucket.hgt_hb, color='red', s=50)\n",
    "plt.scatter(high_bucket.hgt_al, high_bucket.hgt_hb, color='green', s=50)\n",
    "plt.scatter(mean_bucket.hgt_al, mean_bucket.hgt_hb, color='gray', alpha=0.3)\n",
    "# plt.grid(True, which='both')\n",
    "plt.axhline(y=0, color='k')\n",
    "plt.axvline(x=0, color='k')\n",
    "plt.xlim([-180, 180])\n",
    "plt.ylim([-180, 180])\n",
    "\n",
    "# circ = plt.Circle((0, 0), 20, color='k', fill=False, ls='--')\n",
    "# circ2 = plt.Circle((0, 0), 50, color='k', fill=False, ls='--')\n",
    "# plt.gca().add_patch(circ)\n",
    "# plt.gca().add_patch(circ2)"
   ]
  },
  {
   "cell_type": "code",
   "execution_count": 1014,
   "metadata": {
    "collapsed": false
   },
   "outputs": [
    {
     "data": {
      "text/plain": [
       "(28, 50, 25, 59)"
      ]
     },
     "execution_count": 1014,
     "metadata": {},
     "output_type": "execute_result"
    }
   ],
   "source": [
    "threshold = 30\n",
    "df_to_use = full_df\n",
    "\n",
    "circle_of_death = (df_to_use.hgt_al ** 2 + df_to_use.hgt_hb ** 2) < threshold ** 2\n",
    "\n",
    "q1 = df_to_use[(df_to_use.hgt_al < 0) & (df_to_use.hgt_hb < 0) & ~circle_of_death]\n",
    "q2 = df_to_use[(df_to_use.hgt_al < 0) & (df_to_use.hgt_hb > 0) & ~circle_of_death]\n",
    "q3 = df_to_use[(df_to_use.hgt_al > 0) & (df_to_use.hgt_hb > 0) & ~circle_of_death]\n",
    "q4 = df_to_use[(df_to_use.hgt_al > 0) & (df_to_use.hgt_hb < 0) & ~circle_of_death]\n",
    "\n",
    "len(q1), len(q2), len(q3), len(q4)"
   ]
  },
  {
   "cell_type": "code",
   "execution_count": 1015,
   "metadata": {
    "collapsed": false
   },
   "outputs": [
    {
     "data": {
      "text/plain": [
       "{'whiskers': [<matplotlib.lines.Line2D at 0x1434546d0>,\n",
       "  <matplotlib.lines.Line2D at 0x143454a30>,\n",
       "  <matplotlib.lines.Line2D at 0x143461e80>,\n",
       "  <matplotlib.lines.Line2D at 0x14346c1f0>,\n",
       "  <matplotlib.lines.Line2D at 0x143477550>,\n",
       "  <matplotlib.lines.Line2D at 0x143477880>,\n",
       "  <matplotlib.lines.Line2D at 0x143484be0>,\n",
       "  <matplotlib.lines.Line2D at 0x143484f10>],\n",
       " 'caps': [<matplotlib.lines.Line2D at 0x143454d90>,\n",
       "  <matplotlib.lines.Line2D at 0x143461130>,\n",
       "  <matplotlib.lines.Line2D at 0x14346c520>,\n",
       "  <matplotlib.lines.Line2D at 0x14346c850>,\n",
       "  <matplotlib.lines.Line2D at 0x143477bb0>,\n",
       "  <matplotlib.lines.Line2D at 0x143477ee0>,\n",
       "  <matplotlib.lines.Line2D at 0x143490280>,\n",
       "  <matplotlib.lines.Line2D at 0x1434905b0>],\n",
       " 'boxes': [<matplotlib.lines.Line2D at 0x143454370>,\n",
       "  <matplotlib.lines.Line2D at 0x143461b50>,\n",
       "  <matplotlib.lines.Line2D at 0x143477220>,\n",
       "  <matplotlib.lines.Line2D at 0x1434848b0>],\n",
       " 'medians': [<matplotlib.lines.Line2D at 0x143461490>,\n",
       "  <matplotlib.lines.Line2D at 0x14346cb80>,\n",
       "  <matplotlib.lines.Line2D at 0x143484250>,\n",
       "  <matplotlib.lines.Line2D at 0x1434908e0>],\n",
       " 'fliers': [<matplotlib.lines.Line2D at 0x1434617f0>,\n",
       "  <matplotlib.lines.Line2D at 0x14346ceb0>,\n",
       "  <matplotlib.lines.Line2D at 0x143484580>,\n",
       "  <matplotlib.lines.Line2D at 0x143490c10>],\n",
       " 'means': []}"
      ]
     },
     "execution_count": 1015,
     "metadata": {},
     "output_type": "execute_result"
    },
    {
     "data": {
      "image/png": "[encoded data removed]",
      "text/plain": [
       "<Figure size 864x576 with 1 Axes>"
      ]
     },
     "metadata": {
      "needs_background": "light"
     },
     "output_type": "display_data"
    }
   ],
   "source": [
    "plt.figure(figsize=(12, 8))\n",
    "plt.boxplot([q1.precip_in, q2.precip_in, q3.precip_in, q4.precip_in])\n",
    "# plt.ylim([-0.5, 10])"
   ]
  },
  {
   "cell_type": "code",
   "execution_count": 1016,
   "metadata": {
    "collapsed": false
   },
   "outputs": [
    {
     "data": {
      "text/plain": [
       "{'bodies': [<matplotlib.collections.PolyCollection at 0x143629ca0>,\n",
       "  <matplotlib.collections.PolyCollection at 0x143629fa0>,\n",
       "  <matplotlib.collections.PolyCollection at 0x143639280>,\n",
       "  <matplotlib.collections.PolyCollection at 0x1436394f0>],\n",
       " 'cmaxes': <matplotlib.collections.LineCollection at 0x143629ac0>,\n",
       " 'cmins': <matplotlib.collections.LineCollection at 0x1436391f0>,\n",
       " 'cbars': <matplotlib.collections.LineCollection at 0x143629a90>}"
      ]
     },
     "execution_count": 1016,
     "metadata": {},
     "output_type": "execute_result"
    },
    {
     "data": {
      "image/png": "[encoded data removed]",
      "text/plain": [
       "<Figure size 864x576 with 1 Axes>"
      ]
     },
     "metadata": {
      "needs_background": "light"
     },
     "output_type": "display_data"
    }
   ],
   "source": [
    "plt.figure(figsize=(12, 8))\n",
    "plt.violinplot([q1.precip_in, q2.precip_in, q3.precip_in, q4.precip_in])"
   ]
  },
  {
   "cell_type": "markdown",
   "metadata": {},
   "source": [
    "## Find correlations between ONI and Hudson Bay/Aleutian heights"
   ]
  },
  {
   "cell_type": "code",
   "execution_count": 906,
   "metadata": {
    "collapsed": false
   },
   "outputs": [
    {
     "data": {
      "text/plain": [
       "<matplotlib.collections.PathCollection at 0x13e002610>"
      ]
     },
     "execution_count": 906,
     "metadata": {},
     "output_type": "execute_result"
    },
    {
     "data": {
      "image/png": "[encoded data removed]",
      "text/plain": [
       "<Figure size 432x288 with 1 Axes>"
      ]
     },
     "metadata": {
      "needs_background": "light"
     },
     "output_type": "display_data"
    }
   ],
   "source": [
    "plt.scatter(full_df.oni, full_df.hgt_hb)"
   ]
  },
  {
   "cell_type": "code",
   "execution_count": 907,
   "metadata": {
    "collapsed": false
   },
   "outputs": [
    {
     "data": {
      "text/html": [
       "<div>\n",
       "<style scoped>\n",
       "    .dataframe tbody tr th:only-of-type {\n",
       "        vertical-align: middle;\n",
       "    }\n",
       "\n",
       "    .dataframe tbody tr th {\n",
       "        vertical-align: top;\n",
       "    }\n",
       "\n",
       "    .dataframe thead th {\n",
       "        text-align: right;\n",
       "    }\n",
       "</style>\n",
       "<table border=\"1\" class=\"dataframe\">\n",
       "  <thead>\n",
       "    <tr style=\"text-align: right;\">\n",
       "      <th></th>\n",
       "      <th>valid</th>\n",
       "      <th>precip_in</th>\n",
       "      <th>hgt_al</th>\n",
       "      <th>hgt_hb</th>\n",
       "      <th>date</th>\n",
       "      <th>oni</th>\n",
       "    </tr>\n",
       "  </thead>\n",
       "  <tbody>\n",
       "    <tr>\n",
       "      <th>40</th>\n",
       "      <td>1974-01-01</td>\n",
       "      <td>3.1600</td>\n",
       "      <td>134.796967</td>\n",
       "      <td>-91.800484</td>\n",
       "      <td>1974-01-01</td>\n",
       "      <td>-1.84</td>\n",
       "    </tr>\n",
       "    <tr>\n",
       "      <th>41</th>\n",
       "      <td>1974-02-01</td>\n",
       "      <td>1.1800</td>\n",
       "      <td>-8.071501</td>\n",
       "      <td>-31.957659</td>\n",
       "      <td>1974-02-01</td>\n",
       "      <td>-1.55</td>\n",
       "    </tr>\n",
       "    <tr>\n",
       "      <th>45</th>\n",
       "      <td>1975-12-01</td>\n",
       "      <td>0.2100</td>\n",
       "      <td>-14.868568</td>\n",
       "      <td>-33.507095</td>\n",
       "      <td>1975-12-01</td>\n",
       "      <td>-1.65</td>\n",
       "    </tr>\n",
       "    <tr>\n",
       "      <th>46</th>\n",
       "      <td>1976-01-01</td>\n",
       "      <td>0.3700</td>\n",
       "      <td>-15.854354</td>\n",
       "      <td>-30.596600</td>\n",
       "      <td>1976-01-01</td>\n",
       "      <td>-1.56</td>\n",
       "    </tr>\n",
       "    <tr>\n",
       "      <th>47</th>\n",
       "      <td>1976-02-01</td>\n",
       "      <td>1.9200</td>\n",
       "      <td>6.141538</td>\n",
       "      <td>-103.215034</td>\n",
       "      <td>1976-02-01</td>\n",
       "      <td>-1.17</td>\n",
       "    </tr>\n",
       "    <tr>\n",
       "      <th>72</th>\n",
       "      <td>1984-12-01</td>\n",
       "      <td>1.8900</td>\n",
       "      <td>105.566765</td>\n",
       "      <td>-102.227745</td>\n",
       "      <td>1984-12-01</td>\n",
       "      <td>-1.14</td>\n",
       "    </tr>\n",
       "    <tr>\n",
       "      <th>84</th>\n",
       "      <td>1988-12-01</td>\n",
       "      <td>3.6500</td>\n",
       "      <td>-24.531956</td>\n",
       "      <td>-62.370277</td>\n",
       "      <td>1988-12-01</td>\n",
       "      <td>-1.85</td>\n",
       "    </tr>\n",
       "    <tr>\n",
       "      <th>85</th>\n",
       "      <td>1989-01-01</td>\n",
       "      <td>1.2500</td>\n",
       "      <td>-12.560133</td>\n",
       "      <td>-39.252758</td>\n",
       "      <td>1989-01-01</td>\n",
       "      <td>-1.69</td>\n",
       "    </tr>\n",
       "    <tr>\n",
       "      <th>86</th>\n",
       "      <td>1989-02-01</td>\n",
       "      <td>1.2800</td>\n",
       "      <td>209.145996</td>\n",
       "      <td>-98.848175</td>\n",
       "      <td>1989-02-01</td>\n",
       "      <td>-1.43</td>\n",
       "    </tr>\n",
       "    <tr>\n",
       "      <th>114</th>\n",
       "      <td>1998-12-01</td>\n",
       "      <td>0.9900</td>\n",
       "      <td>35.025867</td>\n",
       "      <td>-73.898415</td>\n",
       "      <td>1998-12-01</td>\n",
       "      <td>-1.57</td>\n",
       "    </tr>\n",
       "    <tr>\n",
       "      <th>143</th>\n",
       "      <td>2008-02-01</td>\n",
       "      <td>2.3200</td>\n",
       "      <td>-25.329718</td>\n",
       "      <td>-47.762600</td>\n",
       "      <td>2008-02-01</td>\n",
       "      <td>-1.52</td>\n",
       "    </tr>\n",
       "    <tr>\n",
       "      <th>152</th>\n",
       "      <td>2011-02-01</td>\n",
       "      <td>4.7943</td>\n",
       "      <td>160.222855</td>\n",
       "      <td>-73.683739</td>\n",
       "      <td>2011-02-01</td>\n",
       "      <td>-1.19</td>\n",
       "    </tr>\n",
       "    <tr>\n",
       "      <th>153</th>\n",
       "      <td>2011-12-01</td>\n",
       "      <td>0.1318</td>\n",
       "      <td>-34.648636</td>\n",
       "      <td>-59.637890</td>\n",
       "      <td>2011-12-01</td>\n",
       "      <td>-1.04</td>\n",
       "    </tr>\n",
       "  </tbody>\n",
       "</table>\n",
       "</div>"
      ],
      "text/plain": [
       "         valid  precip_in      hgt_al      hgt_hb       date   oni\n",
       "40  1974-01-01     3.1600  134.796967  -91.800484 1974-01-01 -1.84\n",
       "41  1974-02-01     1.1800   -8.071501  -31.957659 1974-02-01 -1.55\n",
       "45  1975-12-01     0.2100  -14.868568  -33.507095 1975-12-01 -1.65\n",
       "46  1976-01-01     0.3700  -15.854354  -30.596600 1976-01-01 -1.56\n",
       "47  1976-02-01     1.9200    6.141538 -103.215034 1976-02-01 -1.17\n",
       "72  1984-12-01     1.8900  105.566765 -102.227745 1984-12-01 -1.14\n",
       "84  1988-12-01     3.6500  -24.531956  -62.370277 1988-12-01 -1.85\n",
       "85  1989-01-01     1.2500  -12.560133  -39.252758 1989-01-01 -1.69\n",
       "86  1989-02-01     1.2800  209.145996  -98.848175 1989-02-01 -1.43\n",
       "114 1998-12-01     0.9900   35.025867  -73.898415 1998-12-01 -1.57\n",
       "143 2008-02-01     2.3200  -25.329718  -47.762600 2008-02-01 -1.52\n",
       "152 2011-02-01     4.7943  160.222855  -73.683739 2011-02-01 -1.19\n",
       "153 2011-12-01     0.1318  -34.648636  -59.637890 2011-12-01 -1.04"
      ]
     },
     "execution_count": 907,
     "metadata": {},
     "output_type": "execute_result"
    }
   ],
   "source": [
    "full_df[(full_df.hgt_hb < -30) & (full_df.oni < -1)]"
   ]
  },
  {
   "cell_type": "code",
   "execution_count": 908,
   "metadata": {
    "collapsed": false
   },
   "outputs": [
    {
     "data": {
      "text/plain": [
       "0.27917407534584693"
      ]
     },
     "execution_count": 908,
     "metadata": {},
     "output_type": "execute_result"
    }
   ],
   "source": [
    "correlation(full_df.oni, full_df.hgt_hb)"
   ]
  },
  {
   "cell_type": "code",
   "execution_count": 909,
   "metadata": {
    "collapsed": false
   },
   "outputs": [
    {
     "data": {
      "text/plain": [
       "<matplotlib.collections.PathCollection at 0x13e1f1ee0>"
      ]
     },
     "execution_count": 909,
     "metadata": {},
     "output_type": "execute_result"
    },
    {
     "data": {
      "image/png": "[encoded data removed]",
      "text/plain": [
       "<Figure size 432x288 with 1 Axes>"
      ]
     },
     "metadata": {
      "needs_background": "light"
     },
     "output_type": "display_data"
    }
   ],
   "source": [
    "plt.scatter(full_df.oni, full_df.hgt_al)"
   ]
  },
  {
   "cell_type": "code",
   "execution_count": 910,
   "metadata": {
    "collapsed": false
   },
   "outputs": [
    {
     "data": {
      "text/plain": [
       "-0.2698784052388924"
      ]
     },
     "execution_count": 910,
     "metadata": {},
     "output_type": "execute_result"
    }
   ],
   "source": [
    "correlation(full_df.oni, full_df.hgt_al)"
   ]
  }
 ],
 "metadata": {
  "kernelspec": {
   "display_name": "weather-env-2",
   "language": "python",
   "name": "weather-env-2"
  },
  "language_info": {
   "codemirror_mode": {
    "name": "ipython",
    "version": 3
   },
   "file_extension": ".py",
   "mimetype": "text/x-python",
   "name": "python",
   "nbconvert_exporter": "python",
   "pygments_lexer": "ipython3",
   "version": "3.8.6"
  }
 },
 "nbformat": 4,
 "nbformat_minor": 2
}
