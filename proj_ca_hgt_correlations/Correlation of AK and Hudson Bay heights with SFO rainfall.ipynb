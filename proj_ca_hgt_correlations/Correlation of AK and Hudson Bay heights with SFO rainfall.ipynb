{
 "cells": [
  {
   "cell_type": "code",
   "execution_count": 3,
   "metadata": {
    "collapsed": true
   },
   "outputs": [],
   "source": [
    "# %load_ext autoreload\n",
    "# %autoreload 2\n",
    "\n",
    "# import sys\n",
    "# sys.path.append('..')"
   ]
  },
  {
   "cell_type": "code",
   "execution_count": 4,
   "metadata": {
    "collapsed": false
   },
   "outputs": [],
   "source": [
    "import pandas as pd\n",
    "import xarray as xr\n",
    "import numpy as np\n",
    "import matplotlib.pyplot as plt\n",
    "\n",
    "from lib.obs import hourly_precip\n",
    "from lib.enso import oni_trimonthly"
   ]
  },
  {
   "cell_type": "markdown",
   "metadata": {},
   "source": [
    "## Load SFO rainfall"
   ]
  },
  {
   "cell_type": "code",
   "execution_count": 5,
   "metadata": {
    "collapsed": false
   },
   "outputs": [],
   "source": [
    "sfo_precip = hourly_precip('SFO', '1960-07-01', '2021-06-30', filter_measurable=False)"
   ]
  },
  {
   "cell_type": "code",
   "execution_count": 6,
   "metadata": {
    "collapsed": false
   },
   "outputs": [],
   "source": [
    "sfo_monthly = sfo_precip[['valid', 'precip_in']].resample('M', on='valid').sum().reset_index()\n",
    "sfo_monthly['valid'] = sfo_monthly['valid'].to_numpy().astype('datetime64[M]')"
   ]
  },
  {
   "cell_type": "code",
   "execution_count": 7,
   "metadata": {
    "collapsed": false
   },
   "outputs": [
    {
     "data": {
      "text/html": [
       "<div>\n",
       "<style scoped>\n",
       "    .dataframe tbody tr th:only-of-type {\n",
       "        vertical-align: middle;\n",
       "    }\n",
       "\n",
       "    .dataframe tbody tr th {\n",
       "        vertical-align: top;\n",
       "    }\n",
       "\n",
       "    .dataframe thead th {\n",
       "        text-align: right;\n",
       "    }\n",
       "</style>\n",
       "<table border=\"1\" class=\"dataframe\">\n",
       "  <thead>\n",
       "    <tr style=\"text-align: right;\">\n",
       "      <th></th>\n",
       "      <th>valid</th>\n",
       "      <th>precip_in</th>\n",
       "    </tr>\n",
       "  </thead>\n",
       "  <tbody>\n",
       "    <tr>\n",
       "      <th>0</th>\n",
       "      <td>1960-07-01</td>\n",
       "      <td>0.00</td>\n",
       "    </tr>\n",
       "    <tr>\n",
       "      <th>1</th>\n",
       "      <td>1960-08-01</td>\n",
       "      <td>0.00</td>\n",
       "    </tr>\n",
       "    <tr>\n",
       "      <th>2</th>\n",
       "      <td>1960-09-01</td>\n",
       "      <td>0.00</td>\n",
       "    </tr>\n",
       "    <tr>\n",
       "      <th>3</th>\n",
       "      <td>1960-10-01</td>\n",
       "      <td>0.28</td>\n",
       "    </tr>\n",
       "    <tr>\n",
       "      <th>4</th>\n",
       "      <td>1960-11-01</td>\n",
       "      <td>4.15</td>\n",
       "    </tr>\n",
       "  </tbody>\n",
       "</table>\n",
       "</div>"
      ],
      "text/plain": [
       "       valid  precip_in\n",
       "0 1960-07-01       0.00\n",
       "1 1960-08-01       0.00\n",
       "2 1960-09-01       0.00\n",
       "3 1960-10-01       0.28\n",
       "4 1960-11-01       4.15"
      ]
     },
     "execution_count": 7,
     "metadata": {},
     "output_type": "execute_result"
    }
   ],
   "source": [
    "sfo_monthly.head()"
   ]
  },
  {
   "cell_type": "markdown",
   "metadata": {},
   "source": [
    "## Load ONI trimonthly"
   ]
  },
  {
   "cell_type": "code",
   "execution_count": 8,
   "metadata": {
    "collapsed": true
   },
   "outputs": [],
   "source": [
    "oni = oni_trimonthly()"
   ]
  },
  {
   "cell_type": "code",
   "execution_count": 9,
   "metadata": {
    "collapsed": false
   },
   "outputs": [
    {
     "data": {
      "text/html": [
       "<div>\n",
       "<style scoped>\n",
       "    .dataframe tbody tr th:only-of-type {\n",
       "        vertical-align: middle;\n",
       "    }\n",
       "\n",
       "    .dataframe tbody tr th {\n",
       "        vertical-align: top;\n",
       "    }\n",
       "\n",
       "    .dataframe thead th {\n",
       "        text-align: right;\n",
       "    }\n",
       "</style>\n",
       "<table border=\"1\" class=\"dataframe\">\n",
       "  <thead>\n",
       "    <tr style=\"text-align: right;\">\n",
       "      <th></th>\n",
       "      <th>date</th>\n",
       "      <th>ANOM</th>\n",
       "    </tr>\n",
       "  </thead>\n",
       "  <tbody>\n",
       "    <tr>\n",
       "      <th>0</th>\n",
       "      <td>1950-01-01</td>\n",
       "      <td>-1.53</td>\n",
       "    </tr>\n",
       "    <tr>\n",
       "      <th>1</th>\n",
       "      <td>1950-02-01</td>\n",
       "      <td>-1.34</td>\n",
       "    </tr>\n",
       "    <tr>\n",
       "      <th>2</th>\n",
       "      <td>1950-03-01</td>\n",
       "      <td>-1.16</td>\n",
       "    </tr>\n",
       "    <tr>\n",
       "      <th>3</th>\n",
       "      <td>1950-04-01</td>\n",
       "      <td>-1.18</td>\n",
       "    </tr>\n",
       "    <tr>\n",
       "      <th>4</th>\n",
       "      <td>1950-05-01</td>\n",
       "      <td>-1.07</td>\n",
       "    </tr>\n",
       "  </tbody>\n",
       "</table>\n",
       "</div>"
      ],
      "text/plain": [
       "        date  ANOM\n",
       "0 1950-01-01 -1.53\n",
       "1 1950-02-01 -1.34\n",
       "2 1950-03-01 -1.16\n",
       "3 1950-04-01 -1.18\n",
       "4 1950-05-01 -1.07"
      ]
     },
     "execution_count": 9,
     "metadata": {},
     "output_type": "execute_result"
    }
   ],
   "source": [
    "oni['day'] = 1\n",
    "oni['year'] = oni.YR\n",
    "oni['date'] = pd.to_datetime(oni[['year', 'MONTH', 'day']])\n",
    "oni = oni[['date', 'ANOM']]\n",
    "\n",
    "oni.head()"
   ]
  },
  {
   "cell_type": "markdown",
   "metadata": {},
   "source": [
    "## Load NCEP Reanalysis R1"
   ]
  },
  {
   "cell_type": "code",
   "execution_count": 10,
   "metadata": {
    "collapsed": false
   },
   "outputs": [
    {
     "name": "stderr",
     "output_type": "stream",
     "text": [
      "/Users/jitang/anaconda/envs/weather-env-2/lib/python3.8/site-packages/xarray/coding/times.py:463: SerializationWarning: Unable to decode time axis into full numpy.datetime64 objects, continuing using cftime.datetime objects instead, reason: dates out of range\n",
      "  dtype = _decode_cf_datetime_dtype(data, units, calendar, self.use_cftime)\n",
      "/Users/jitang/anaconda/envs/weather-env-2/lib/python3.8/site-packages/xarray/coding/times.py:83: SerializationWarning: Ambiguous reference date string: 1-1-1 00:00:0.0. The first value is assumed to be the year hence will be padded with zeros to remove the ambiguity (the padded reference date string is: 0001-1-1 00:00:0.0). To remove this message, remove the ambiguity by padding your reference date strings with zeros.\n",
      "  warnings.warn(warning_msg, SerializationWarning)\n",
      "/Users/jitang/anaconda/envs/weather-env-2/lib/python3.8/site-packages/xarray/core/indexing.py:568: SerializationWarning: Unable to decode time axis into full numpy.datetime64 objects, continuing using cftime.datetime objects instead, reason: dates out of range\n",
      "  return np.asarray(array[self.key], dtype=None)\n"
     ]
    }
   ],
   "source": [
    "ds_mon = xr.open_dataset('hgt.mon.mean.nc')\n",
    "ds_mon_mean = xr.open_dataset('hgt.mon.ltm.nc')"
   ]
  },
  {
   "cell_type": "code",
   "execution_count": 13,
   "metadata": {
    "collapsed": true
   },
   "outputs": [],
   "source": [
    "def coerce_ltm_ds(ds, years):\n",
    "    orig_times = ds.time.values\n",
    "    concat_datasets = []\n",
    "    for year in years:\n",
    "        ds_for_year = ds.copy()\n",
    "        newtimes = np.array([pd.Timestamp(year=year,\n",
    "                                          month=t.month,\n",
    "                                          day=t.day,\n",
    "                                          hour=t.hour,\n",
    "                                          minute=t.minute) for t in orig_times])\n",
    "        ds_for_year['time'] = newtimes\n",
    "        concat_datasets.append(ds_for_year)\n",
    "        \n",
    "    return xr.concat(concat_datasets, dim='time')"
   ]
  },
  {
   "cell_type": "code",
   "execution_count": 14,
   "metadata": {
    "collapsed": false
   },
   "outputs": [
    {
     "name": "stderr",
     "output_type": "stream",
     "text": [
      "/Users/jitang/anaconda/envs/weather-env-2/lib/python3.8/site-packages/xarray/coding/times.py:83: SerializationWarning: Ambiguous reference date string: 1-1-1 00:00:0.0. The first value is assumed to be the year hence will be padded with zeros to remove the ambiguity (the padded reference date string is: 0001-1-1 00:00:0.0). To remove this message, remove the ambiguity by padding your reference date strings with zeros.\n",
      "  warnings.warn(warning_msg, SerializationWarning)\n"
     ]
    }
   ],
   "source": [
    "ds_mon_mean = coerce_ltm_ds(ds_mon_mean, range(1960, 2021))"
   ]
  },
  {
   "cell_type": "code",
   "execution_count": 15,
   "metadata": {
    "collapsed": false
   },
   "outputs": [],
   "source": [
    "def subset(p, years, months, bbox):\n",
    "    def func(ds):\n",
    "        kw = {}\n",
    "        kw['level'] = p\n",
    "        \n",
    "        north, west, south, east = bbox\n",
    "        kw['lon'] = slice(west, east)\n",
    "        kw['lat'] = slice(north, south)\n",
    "        \n",
    "        time_query = np.in1d(ds['time.month'], months) & (np.in1d(ds['time.year'], years))\n",
    "        kw['time'] = time_query\n",
    "        \n",
    "        return ds.sel(**kw)\n",
    "    \n",
    "    return func"
   ]
  },
  {
   "cell_type": "code",
   "execution_count": 16,
   "metadata": {
    "collapsed": false
   },
   "outputs": [],
   "source": [
    "# aleutians_bbox = (55, 170, 40, 200) # bad\n",
    "aleutians_bbox = (65, 180, 45, 205)\n",
    "hudson_bay_bbox = (65, 260, 50, 290)\n",
    "\n",
    "years = range(1960, 2021)\n",
    "djf = [12, 1, 2]\n",
    "p = 500"
   ]
  },
  {
   "cell_type": "code",
   "execution_count": 17,
   "metadata": {
    "collapsed": false
   },
   "outputs": [],
   "source": [
    "aleutians = subset(p, years, djf, aleutians_bbox)\n",
    "hudson_bay = subset(p, years, djf, hudson_bay_bbox)\n",
    "\n",
    "h5_hgts_aleutians = aleutians(ds_mon)\n",
    "h5_norms_aleutians = aleutians(ds_mon_mean)\n",
    "\n",
    "h5_hgts_hudson = hudson_bay(ds_mon)\n",
    "h5_norms_hudson = hudson_bay(ds_mon_mean)"
   ]
  },
  {
   "cell_type": "code",
   "execution_count": 18,
   "metadata": {
    "collapsed": false
   },
   "outputs": [],
   "source": [
    "h5_anoms_aleutians = h5_hgts_aleutians - h5_norms_aleutians\n",
    "h5_anoms_hudson = h5_hgts_hudson - h5_norms_hudson\n",
    "\n",
    "# h5_anoms_aleutians = h5_anoms_aleutians.sel(time=slice('1970-07-01', '2021-03-01'))\n",
    "# h5_anoms_hudson = h5_anoms_hudson.sel(time=slice('1970-07-01', '2021-03-01'))"
   ]
  },
  {
   "cell_type": "code",
   "execution_count": 19,
   "metadata": {
    "collapsed": false
   },
   "outputs": [],
   "source": [
    "aleutians_anom_means = h5_anoms_aleutians.hgt.mean(['lat', 'lon'])\n",
    "hudson_anom_means = h5_anoms_hudson.hgt.mean(['lat', 'lon'])"
   ]
  },
  {
   "cell_type": "code",
   "execution_count": 20,
   "metadata": {
    "collapsed": true
   },
   "outputs": [],
   "source": [
    "def correlation(x, y):\n",
    "    correlation_matrix = np.corrcoef(x, y)\n",
    "    correlation_xy = correlation_matrix[0,1]\n",
    "    return correlation_xy"
   ]
  },
  {
   "cell_type": "code",
   "execution_count": 21,
   "metadata": {
    "collapsed": false
   },
   "outputs": [
    {
     "data": {
      "text/plain": [
       "-0.39670909049049224"
      ]
     },
     "execution_count": 21,
     "metadata": {},
     "output_type": "execute_result"
    }
   ],
   "source": [
    "correlation(aleutians_anom_means.values, hudson_anom_means.values)"
   ]
  },
  {
   "cell_type": "code",
   "execution_count": 22,
   "metadata": {
    "collapsed": false
   },
   "outputs": [
    {
     "data": {
      "text/plain": [
       "<matplotlib.collections.PathCollection at 0x11d197640>"
      ]
     },
     "execution_count": 22,
     "metadata": {},
     "output_type": "execute_result"
    },
    {
     "data": {
      "image/png": "[encoded data removed]",
      "text/plain": [
       "<Figure size 432x288 with 1 Axes>"
      ]
     },
     "metadata": {
      "needs_background": "light"
     },
     "output_type": "display_data"
    }
   ],
   "source": [
    "# plt.figure(figsize=(16, 16))\n",
    "\n",
    "plt.scatter(aleutians_anom_means.values, hudson_anom_means.values)"
   ]
  },
  {
   "cell_type": "code",
   "execution_count": 23,
   "metadata": {
    "collapsed": false
   },
   "outputs": [],
   "source": [
    "aleutians_anom_df = aleutians_anom_means.to_dataframe().reset_index()[['time', 'hgt']]\n",
    "hudson_anom_df = hudson_anom_means.to_dataframe().reset_index()[['time', 'hgt']]"
   ]
  },
  {
   "cell_type": "markdown",
   "metadata": {},
   "source": [
    "## Merge together SFO rainfall, Aleutian heights, Hudson Bay heights, and ONI"
   ]
  },
  {
   "cell_type": "code",
   "execution_count": 24,
   "metadata": {
    "collapsed": false
   },
   "outputs": [],
   "source": [
    "full_df = sfo_monthly.merge(aleutians_anom_df, left_on='valid', right_on='time', how='right')\n",
    "full_df = full_df.merge(hudson_anom_df, left_on='valid', right_on='time', \n",
    "                        how='inner', suffixes=['_al', '_hb'])\n",
    "full_df = full_df[['valid','precip_in', 'hgt_al', 'hgt_hb']]\n",
    "full_df = full_df.merge(oni, left_on='valid', right_on='date', how='left').rename(columns={'ANOM': 'oni'})"
   ]
  },
  {
   "cell_type": "code",
   "execution_count": 25,
   "metadata": {
    "collapsed": false
   },
   "outputs": [
    {
     "data": {
      "text/html": [
       "<div>\n",
       "<style scoped>\n",
       "    .dataframe tbody tr th:only-of-type {\n",
       "        vertical-align: middle;\n",
       "    }\n",
       "\n",
       "    .dataframe tbody tr th {\n",
       "        vertical-align: top;\n",
       "    }\n",
       "\n",
       "    .dataframe thead th {\n",
       "        text-align: right;\n",
       "    }\n",
       "</style>\n",
       "<table border=\"1\" class=\"dataframe\">\n",
       "  <thead>\n",
       "    <tr style=\"text-align: right;\">\n",
       "      <th></th>\n",
       "      <th>valid</th>\n",
       "      <th>precip_in</th>\n",
       "      <th>hgt_al</th>\n",
       "      <th>hgt_hb</th>\n",
       "      <th>date</th>\n",
       "      <th>oni</th>\n",
       "    </tr>\n",
       "  </thead>\n",
       "  <tbody>\n",
       "    <tr>\n",
       "      <th>0</th>\n",
       "      <td>1960-12-01</td>\n",
       "      <td>1.16</td>\n",
       "      <td>-37.935349</td>\n",
       "      <td>-33.905144</td>\n",
       "      <td>1960-12-01</td>\n",
       "      <td>0.05</td>\n",
       "    </tr>\n",
       "    <tr>\n",
       "      <th>1</th>\n",
       "      <td>1961-01-01</td>\n",
       "      <td>2.63</td>\n",
       "      <td>-51.418720</td>\n",
       "      <td>-2.298860</td>\n",
       "      <td>1961-01-01</td>\n",
       "      <td>0.04</td>\n",
       "    </tr>\n",
       "    <tr>\n",
       "      <th>2</th>\n",
       "      <td>1961-02-01</td>\n",
       "      <td>1.18</td>\n",
       "      <td>-35.432648</td>\n",
       "      <td>55.791924</td>\n",
       "      <td>1961-02-01</td>\n",
       "      <td>0.03</td>\n",
       "    </tr>\n",
       "    <tr>\n",
       "      <th>3</th>\n",
       "      <td>1961-12-01</td>\n",
       "      <td>1.88</td>\n",
       "      <td>51.670059</td>\n",
       "      <td>64.212524</td>\n",
       "      <td>1961-12-01</td>\n",
       "      <td>-0.16</td>\n",
       "    </tr>\n",
       "    <tr>\n",
       "      <th>4</th>\n",
       "      <td>1962-01-01</td>\n",
       "      <td>1.70</td>\n",
       "      <td>114.406311</td>\n",
       "      <td>-93.969200</td>\n",
       "      <td>1962-01-01</td>\n",
       "      <td>-0.24</td>\n",
       "    </tr>\n",
       "  </tbody>\n",
       "</table>\n",
       "</div>"
      ],
      "text/plain": [
       "       valid  precip_in      hgt_al     hgt_hb       date   oni\n",
       "0 1960-12-01       1.16  -37.935349 -33.905144 1960-12-01  0.05\n",
       "1 1961-01-01       2.63  -51.418720  -2.298860 1961-01-01  0.04\n",
       "2 1961-02-01       1.18  -35.432648  55.791924 1961-02-01  0.03\n",
       "3 1961-12-01       1.88   51.670059  64.212524 1961-12-01 -0.16\n",
       "4 1962-01-01       1.70  114.406311 -93.969200 1962-01-01 -0.24"
      ]
     },
     "execution_count": 25,
     "metadata": {},
     "output_type": "execute_result"
    }
   ],
   "source": [
    "full_df.head()"
   ]
  },
  {
   "cell_type": "code",
   "execution_count": 26,
   "metadata": {
    "collapsed": true
   },
   "outputs": [],
   "source": [
    "full_df_nonino = full_df[full_df.oni < 1.5]"
   ]
  },
  {
   "cell_type": "code",
   "execution_count": 27,
   "metadata": {
    "collapsed": false
   },
   "outputs": [
    {
     "data": {
      "text/plain": [
       "(2.9448, 2.8175236674833326, 3.54230773480663)"
      ]
     },
     "execution_count": 27,
     "metadata": {},
     "output_type": "execute_result"
    }
   ],
   "source": [
    "mean = full_df.precip_in.mean()\n",
    "median = full_df.precip_in.median()\n",
    "sd = full_df.precip_in.std()\n",
    "\n",
    "median, sd, mean"
   ]
  },
  {
   "cell_type": "code",
   "execution_count": 43,
   "metadata": {
    "collapsed": false
   },
   "outputs": [
    {
     "data": {
      "text/plain": [
       "(56, 50, 75)"
      ]
     },
     "execution_count": 43,
     "metadata": {},
     "output_type": "execute_result"
    }
   ],
   "source": [
    "low_bucket = full_df[full_df.precip_in <= mean - 0.67*sd]\n",
    "high_bucket = full_df[full_df.precip_in >= mean + 0.5*sd]\n",
    "mean_bucket = full_df[(full_df.precip_in > mean - 0.67*sd) & (full_df.precip_in < mean + 0.5*sd)]\n",
    "# median_bucket = full_df[(full_df.precip_in >= median - sd) & (full_df.precip_in <= median + sd)]\n",
    "\n",
    "len(low_bucket), len(high_bucket), len(mean_bucket)"
   ]
  },
  {
   "cell_type": "code",
   "execution_count": 44,
   "metadata": {
    "collapsed": false
   },
   "outputs": [
    {
     "data": {
      "text/plain": [
       "(71.561325, 59.561466)"
      ]
     },
     "execution_count": 44,
     "metadata": {},
     "output_type": "execute_result"
    }
   ],
   "source": [
    "full_df.hgt_al.std(), full_df.hgt_hb.std()"
   ]
  },
  {
   "cell_type": "code",
   "execution_count": 45,
   "metadata": {
    "collapsed": false
   },
   "outputs": [
    {
     "data": {
      "text/plain": [
       "(-180.0, 180.0)"
      ]
     },
     "execution_count": 45,
     "metadata": {},
     "output_type": "execute_result"
    },
    {
     "data": {
      "image/png": "[encoded data removed]",
      "text/plain": [
       "<Figure size 864x864 with 1 Axes>"
      ]
     },
     "metadata": {
      "needs_background": "light"
     },
     "output_type": "display_data"
    }
   ],
   "source": [
    "plt.figure(figsize=(12, 12))\n",
    "plt.scatter(low_bucket.hgt_al, low_bucket.hgt_hb, color='red', s=50)\n",
    "plt.scatter(high_bucket.hgt_al, high_bucket.hgt_hb, color='green', s=50)\n",
    "plt.scatter(mean_bucket.hgt_al, mean_bucket.hgt_hb, color='gray', alpha=0.3)\n",
    "# plt.grid(True, which='both')\n",
    "plt.axhline(y=0, color='k')\n",
    "plt.axvline(x=0, color='k')\n",
    "plt.xlim([-180, 180])\n",
    "plt.ylim([-180, 180])\n",
    "\n",
    "# circ = plt.Circle((0, 0), 20, color='k', fill=False, ls='--')\n",
    "# circ2 = plt.Circle((0, 0), 50, color='k', fill=False, ls='--')\n",
    "# plt.gca().add_patch(circ)\n",
    "# plt.gca().add_patch(circ2)"
   ]
  },
  {
   "cell_type": "code",
   "execution_count": 46,
   "metadata": {
    "collapsed": false
   },
   "outputs": [
    {
     "data": {
      "text/plain": [
       "(28, 50, 25, 59)"
      ]
     },
     "execution_count": 46,
     "metadata": {},
     "output_type": "execute_result"
    }
   ],
   "source": [
    "threshold = 30\n",
    "df_to_use = full_df\n",
    "\n",
    "circle_of_death = (df_to_use.hgt_al ** 2 + df_to_use.hgt_hb ** 2) < threshold ** 2\n",
    "\n",
    "q1 = df_to_use[(df_to_use.hgt_al < 0) & (df_to_use.hgt_hb < 0) & ~circle_of_death]\n",
    "q2 = df_to_use[(df_to_use.hgt_al < 0) & (df_to_use.hgt_hb > 0) & ~circle_of_death]\n",
    "q3 = df_to_use[(df_to_use.hgt_al > 0) & (df_to_use.hgt_hb > 0) & ~circle_of_death]\n",
    "q4 = df_to_use[(df_to_use.hgt_al > 0) & (df_to_use.hgt_hb < 0) & ~circle_of_death]\n",
    "\n",
    "len(q1), len(q2), len(q3), len(q4)"
   ]
  },
  {
   "cell_type": "code",
   "execution_count": 47,
   "metadata": {
    "collapsed": false
   },
   "outputs": [
    {
     "data": {
      "text/plain": [
       "{'whiskers': [<matplotlib.lines.Line2D at 0x11dcfef40>,\n",
       "  <matplotlib.lines.Line2D at 0x11dd0b2e0>,\n",
       "  <matplotlib.lines.Line2D at 0x11dd16760>,\n",
       "  <matplotlib.lines.Line2D at 0x11dd16ac0>,\n",
       "  <matplotlib.lines.Line2D at 0x11dd22f10>,\n",
       "  <matplotlib.lines.Line2D at 0x11dd2c2b0>,\n",
       "  <matplotlib.lines.Line2D at 0x11dd39730>,\n",
       "  <matplotlib.lines.Line2D at 0x11dd39a90>],\n",
       " 'caps': [<matplotlib.lines.Line2D at 0x11dd0b640>,\n",
       "  <matplotlib.lines.Line2D at 0x11dd0b9a0>,\n",
       "  <matplotlib.lines.Line2D at 0x11dd16dc0>,\n",
       "  <matplotlib.lines.Line2D at 0x11dd22160>,\n",
       "  <matplotlib.lines.Line2D at 0x11dd2c610>,\n",
       "  <matplotlib.lines.Line2D at 0x11dd2c970>,\n",
       "  <matplotlib.lines.Line2D at 0x11dd39df0>,\n",
       "  <matplotlib.lines.Line2D at 0x11dd44190>],\n",
       " 'boxes': [<matplotlib.lines.Line2D at 0x11dcfebe0>,\n",
       "  <matplotlib.lines.Line2D at 0x11dd16400>,\n",
       "  <matplotlib.lines.Line2D at 0x11dd22bb0>,\n",
       "  <matplotlib.lines.Line2D at 0x11dd393d0>],\n",
       " 'medians': [<matplotlib.lines.Line2D at 0x11dd0bd00>,\n",
       "  <matplotlib.lines.Line2D at 0x11dd224f0>,\n",
       "  <matplotlib.lines.Line2D at 0x11dd2ccd0>,\n",
       "  <matplotlib.lines.Line2D at 0x11dd444f0>],\n",
       " 'fliers': [<matplotlib.lines.Line2D at 0x11dd160a0>,\n",
       "  <matplotlib.lines.Line2D at 0x11dd22850>,\n",
       "  <matplotlib.lines.Line2D at 0x11dd39070>,\n",
       "  <matplotlib.lines.Line2D at 0x11dd44850>],\n",
       " 'means': []}"
      ]
     },
     "execution_count": 47,
     "metadata": {},
     "output_type": "execute_result"
    },
    {
     "data": {
      "image/png": "[encoded data removed]",
      "text/plain": [
       "<Figure size 864x576 with 1 Axes>"
      ]
     },
     "metadata": {
      "needs_background": "light"
     },
     "output_type": "display_data"
    }
   ],
   "source": [
    "plt.figure(figsize=(12, 8))\n",
    "plt.boxplot([q1.precip_in, q2.precip_in, q3.precip_in, q4.precip_in])\n",
    "# plt.ylim([-0.5, 10])"
   ]
  },
  {
   "cell_type": "code",
   "execution_count": 48,
   "metadata": {
    "collapsed": false
   },
   "outputs": [
    {
     "data": {
      "text/plain": [
       "{'bodies': [<matplotlib.collections.PolyCollection at 0x11dda5400>,\n",
       "  <matplotlib.collections.PolyCollection at 0x11dda56a0>,\n",
       "  <matplotlib.collections.PolyCollection at 0x11dda5a30>,\n",
       "  <matplotlib.collections.PolyCollection at 0x11dda5d30>],\n",
       " 'cmaxes': <matplotlib.collections.LineCollection at 0x11dda5220>,\n",
       " 'cmins': <matplotlib.collections.LineCollection at 0x11e1d6280>,\n",
       " 'cbars': <matplotlib.collections.LineCollection at 0x11e1d6610>}"
      ]
     },
     "execution_count": 48,
     "metadata": {},
     "output_type": "execute_result"
    },
    {
     "data": {
      "image/png": "[encoded data removed]",
      "text/plain": [
       "<Figure size 864x576 with 1 Axes>"
      ]
     },
     "metadata": {
      "needs_background": "light"
     },
     "output_type": "display_data"
    }
   ],
   "source": [
    "plt.figure(figsize=(12, 8))\n",
    "plt.violinplot([q1.precip_in, q2.precip_in, q3.precip_in, q4.precip_in])"
   ]
  },
  {
   "cell_type": "markdown",
   "metadata": {},
   "source": [
    "## Find correlations between ONI and Hudson Bay/Aleutian heights"
   ]
  },
  {
   "cell_type": "code",
   "execution_count": 34,
   "metadata": {
    "collapsed": false
   },
   "outputs": [
    {
     "data": {
      "text/plain": [
       "<matplotlib.collections.PathCollection at 0x11dad23d0>"
      ]
     },
     "execution_count": 34,
     "metadata": {},
     "output_type": "execute_result"
    },
    {
     "data": {
      "image/png": "[encoded data removed]",
      "text/plain": [
       "<Figure size 432x288 with 1 Axes>"
      ]
     },
     "metadata": {
      "needs_background": "light"
     },
     "output_type": "display_data"
    }
   ],
   "source": [
    "plt.scatter(full_df.oni, full_df.hgt_hb)"
   ]
  },
  {
   "cell_type": "code",
   "execution_count": 39,
   "metadata": {
    "collapsed": false
   },
   "outputs": [
    {
     "data": {
      "text/html": [
       "<div>\n",
       "<style scoped>\n",
       "    .dataframe tbody tr th:only-of-type {\n",
       "        vertical-align: middle;\n",
       "    }\n",
       "\n",
       "    .dataframe tbody tr th {\n",
       "        vertical-align: top;\n",
       "    }\n",
       "\n",
       "    .dataframe thead th {\n",
       "        text-align: right;\n",
       "    }\n",
       "</style>\n",
       "<table border=\"1\" class=\"dataframe\">\n",
       "  <thead>\n",
       "    <tr style=\"text-align: right;\">\n",
       "      <th></th>\n",
       "      <th>valid</th>\n",
       "      <th>precip_in</th>\n",
       "      <th>hgt_al</th>\n",
       "      <th>hgt_hb</th>\n",
       "      <th>date</th>\n",
       "      <th>oni</th>\n",
       "    </tr>\n",
       "  </thead>\n",
       "  <tbody>\n",
       "    <tr>\n",
       "      <th>36</th>\n",
       "      <td>1972-12-01</td>\n",
       "      <td>0.72</td>\n",
       "      <td>83.777237</td>\n",
       "      <td>-88.918648</td>\n",
       "      <td>1972-12-01</td>\n",
       "      <td>2.12</td>\n",
       "    </tr>\n",
       "    <tr>\n",
       "      <th>93</th>\n",
       "      <td>1991-12-01</td>\n",
       "      <td>2.70</td>\n",
       "      <td>-69.881912</td>\n",
       "      <td>-31.133457</td>\n",
       "      <td>1991-12-01</td>\n",
       "      <td>1.53</td>\n",
       "    </tr>\n",
       "    <tr>\n",
       "      <th>167</th>\n",
       "      <td>2016-02-01</td>\n",
       "      <td>0.88</td>\n",
       "      <td>-74.276833</td>\n",
       "      <td>-35.240620</td>\n",
       "      <td>2016-02-01</td>\n",
       "      <td>2.14</td>\n",
       "    </tr>\n",
       "  </tbody>\n",
       "</table>\n",
       "</div>"
      ],
      "text/plain": [
       "         valid  precip_in     hgt_al     hgt_hb       date   oni\n",
       "36  1972-12-01       0.72  83.777237 -88.918648 1972-12-01  2.12\n",
       "93  1991-12-01       2.70 -69.881912 -31.133457 1991-12-01  1.53\n",
       "167 2016-02-01       0.88 -74.276833 -35.240620 2016-02-01  2.14"
      ]
     },
     "execution_count": 39,
     "metadata": {},
     "output_type": "execute_result"
    }
   ],
   "source": [
    "full_df[(full_df.hgt_hb < -30) & (full_df.oni > 1)]"
   ]
  },
  {
   "cell_type": "code",
   "execution_count": 36,
   "metadata": {
    "collapsed": false
   },
   "outputs": [
    {
     "data": {
      "text/plain": [
       "0.27917407534584693"
      ]
     },
     "execution_count": 36,
     "metadata": {},
     "output_type": "execute_result"
    }
   ],
   "source": [
    "correlation(full_df.oni, full_df.hgt_hb)"
   ]
  },
  {
   "cell_type": "code",
   "execution_count": 37,
   "metadata": {
    "collapsed": false
   },
   "outputs": [
    {
     "data": {
      "text/plain": [
       "<matplotlib.collections.PathCollection at 0x11b838760>"
      ]
     },
     "execution_count": 37,
     "metadata": {},
     "output_type": "execute_result"
    },
    {
     "data": {
      "image/png": "[encoded data removed]",
      "text/plain": [
       "<Figure size 432x288 with 1 Axes>"
      ]
     },
     "metadata": {
      "needs_background": "light"
     },
     "output_type": "display_data"
    }
   ],
   "source": [
    "plt.scatter(full_df.oni, full_df.hgt_al)"
   ]
  },
  {
   "cell_type": "code",
   "execution_count": 38,
   "metadata": {
    "collapsed": false
   },
   "outputs": [
    {
     "data": {
      "text/plain": [
       "-0.2698784052388924"
      ]
     },
     "execution_count": 38,
     "metadata": {},
     "output_type": "execute_result"
    }
   ],
   "source": [
    "correlation(full_df.oni, full_df.hgt_al)"
   ]
  }
 ],
 "metadata": {
  "kernelspec": {
   "display_name": "weather-env-2",
   "language": "python",
   "name": "weather-env-2"
  },
  "language_info": {
   "codemirror_mode": {
    "name": "ipython",
    "version": 3
   },
   "file_extension": ".py",
   "mimetype": "text/x-python",
   "name": "python",
   "nbconvert_exporter": "python",
   "pygments_lexer": "ipython3",
   "version": "3.8.6"
  }
 },
 "nbformat": 4,
 "nbformat_minor": 2
}
