{
 "cells": [
  {
   "cell_type": "code",
   "execution_count": 3,
   "metadata": {
    "collapsed": true
   },
   "outputs": [],
   "source": [
    "# %load_ext autoreload\n",
    "# %autoreload 2\n",
    "\n",
    "# import sys\n",
    "# sys.path.append('..')"
   ]
  },
  {
   "cell_type": "code",
   "execution_count": 245,
   "metadata": {
    "collapsed": false
   },
   "outputs": [],
   "source": [
    "import pandas as pd\n",
    "import xarray as xr\n",
    "import numpy as np\n",
    "import matplotlib.pyplot as plt\n",
    "from scipy.stats import pearsonr\n",
    "\n",
    "from lib.obs import hourly_precip\n",
    "from lib.enso import oni_trimonthly"
   ]
  },
  {
   "cell_type": "markdown",
   "metadata": {},
   "source": [
    "## Load SFO rainfall"
   ]
  },
  {
   "cell_type": "code",
   "execution_count": 5,
   "metadata": {
    "collapsed": false
   },
   "outputs": [],
   "source": [
    "sfo_precip = hourly_precip('SFO', '1960-07-01', '2021-06-30', filter_measurable=False)"
   ]
  },
  {
   "cell_type": "code",
   "execution_count": 6,
   "metadata": {
    "collapsed": false
   },
   "outputs": [],
   "source": [
    "sfo_monthly = sfo_precip[['valid', 'precip_in']].resample('M', on='valid').sum().reset_index()\n",
    "sfo_monthly['valid'] = sfo_monthly['valid'].to_numpy().astype('datetime64[M]')"
   ]
  },
  {
   "cell_type": "code",
   "execution_count": 7,
   "metadata": {
    "collapsed": false
   },
   "outputs": [
    {
     "data": {
      "text/html": [
       "<div>\n",
       "<style scoped>\n",
       "    .dataframe tbody tr th:only-of-type {\n",
       "        vertical-align: middle;\n",
       "    }\n",
       "\n",
       "    .dataframe tbody tr th {\n",
       "        vertical-align: top;\n",
       "    }\n",
       "\n",
       "    .dataframe thead th {\n",
       "        text-align: right;\n",
       "    }\n",
       "</style>\n",
       "<table border=\"1\" class=\"dataframe\">\n",
       "  <thead>\n",
       "    <tr style=\"text-align: right;\">\n",
       "      <th></th>\n",
       "      <th>valid</th>\n",
       "      <th>precip_in</th>\n",
       "    </tr>\n",
       "  </thead>\n",
       "  <tbody>\n",
       "    <tr>\n",
       "      <th>0</th>\n",
       "      <td>1960-07-01</td>\n",
       "      <td>0.00</td>\n",
       "    </tr>\n",
       "    <tr>\n",
       "      <th>1</th>\n",
       "      <td>1960-08-01</td>\n",
       "      <td>0.00</td>\n",
       "    </tr>\n",
       "    <tr>\n",
       "      <th>2</th>\n",
       "      <td>1960-09-01</td>\n",
       "      <td>0.00</td>\n",
       "    </tr>\n",
       "    <tr>\n",
       "      <th>3</th>\n",
       "      <td>1960-10-01</td>\n",
       "      <td>0.28</td>\n",
       "    </tr>\n",
       "    <tr>\n",
       "      <th>4</th>\n",
       "      <td>1960-11-01</td>\n",
       "      <td>4.15</td>\n",
       "    </tr>\n",
       "  </tbody>\n",
       "</table>\n",
       "</div>"
      ],
      "text/plain": [
       "       valid  precip_in\n",
       "0 1960-07-01       0.00\n",
       "1 1960-08-01       0.00\n",
       "2 1960-09-01       0.00\n",
       "3 1960-10-01       0.28\n",
       "4 1960-11-01       4.15"
      ]
     },
     "execution_count": 7,
     "metadata": {},
     "output_type": "execute_result"
    }
   ],
   "source": [
    "sfo_monthly.head()"
   ]
  },
  {
   "cell_type": "markdown",
   "metadata": {},
   "source": [
    "## Load ONI trimonthly"
   ]
  },
  {
   "cell_type": "code",
   "execution_count": 8,
   "metadata": {
    "collapsed": true
   },
   "outputs": [],
   "source": [
    "oni = oni_trimonthly()"
   ]
  },
  {
   "cell_type": "code",
   "execution_count": 9,
   "metadata": {
    "collapsed": false
   },
   "outputs": [
    {
     "data": {
      "text/html": [
       "<div>\n",
       "<style scoped>\n",
       "    .dataframe tbody tr th:only-of-type {\n",
       "        vertical-align: middle;\n",
       "    }\n",
       "\n",
       "    .dataframe tbody tr th {\n",
       "        vertical-align: top;\n",
       "    }\n",
       "\n",
       "    .dataframe thead th {\n",
       "        text-align: right;\n",
       "    }\n",
       "</style>\n",
       "<table border=\"1\" class=\"dataframe\">\n",
       "  <thead>\n",
       "    <tr style=\"text-align: right;\">\n",
       "      <th></th>\n",
       "      <th>date</th>\n",
       "      <th>ANOM</th>\n",
       "    </tr>\n",
       "  </thead>\n",
       "  <tbody>\n",
       "    <tr>\n",
       "      <th>0</th>\n",
       "      <td>1950-01-01</td>\n",
       "      <td>-1.53</td>\n",
       "    </tr>\n",
       "    <tr>\n",
       "      <th>1</th>\n",
       "      <td>1950-02-01</td>\n",
       "      <td>-1.34</td>\n",
       "    </tr>\n",
       "    <tr>\n",
       "      <th>2</th>\n",
       "      <td>1950-03-01</td>\n",
       "      <td>-1.16</td>\n",
       "    </tr>\n",
       "    <tr>\n",
       "      <th>3</th>\n",
       "      <td>1950-04-01</td>\n",
       "      <td>-1.18</td>\n",
       "    </tr>\n",
       "    <tr>\n",
       "      <th>4</th>\n",
       "      <td>1950-05-01</td>\n",
       "      <td>-1.07</td>\n",
       "    </tr>\n",
       "  </tbody>\n",
       "</table>\n",
       "</div>"
      ],
      "text/plain": [
       "        date  ANOM\n",
       "0 1950-01-01 -1.53\n",
       "1 1950-02-01 -1.34\n",
       "2 1950-03-01 -1.16\n",
       "3 1950-04-01 -1.18\n",
       "4 1950-05-01 -1.07"
      ]
     },
     "execution_count": 9,
     "metadata": {},
     "output_type": "execute_result"
    }
   ],
   "source": [
    "oni['day'] = 1\n",
    "oni['year'] = oni.YR\n",
    "oni['date'] = pd.to_datetime(oni[['year', 'MONTH', 'day']])\n",
    "oni = oni[['date', 'ANOM']]\n",
    "\n",
    "oni.head()"
   ]
  },
  {
   "cell_type": "markdown",
   "metadata": {},
   "source": [
    "## Load NCEP Reanalysis R1"
   ]
  },
  {
   "cell_type": "code",
   "execution_count": 409,
   "metadata": {
    "collapsed": false
   },
   "outputs": [
    {
     "name": "stderr",
     "output_type": "stream",
     "text": [
      "/Users/jitang/anaconda/envs/weather-env-2/lib/python3.8/site-packages/xarray/coding/times.py:463: SerializationWarning: Unable to decode time axis into full numpy.datetime64 objects, continuing using cftime.datetime objects instead, reason: dates out of range\n",
      "  dtype = _decode_cf_datetime_dtype(data, units, calendar, self.use_cftime)\n",
      "/Users/jitang/anaconda/envs/weather-env-2/lib/python3.8/site-packages/xarray/coding/times.py:83: SerializationWarning: Ambiguous reference date string: 1-1-1 00:00:0.0. The first value is assumed to be the year hence will be padded with zeros to remove the ambiguity (the padded reference date string is: 0001-1-1 00:00:0.0). To remove this message, remove the ambiguity by padding your reference date strings with zeros.\n",
      "  warnings.warn(warning_msg, SerializationWarning)\n",
      "/Users/jitang/anaconda/envs/weather-env-2/lib/python3.8/site-packages/xarray/core/indexing.py:568: SerializationWarning: Unable to decode time axis into full numpy.datetime64 objects, continuing using cftime.datetime objects instead, reason: dates out of range\n",
      "  return np.asarray(array[self.key], dtype=None)\n"
     ]
    }
   ],
   "source": [
    "ds_mon = xr.open_dataset('hgt.mon.mean.nc')\n",
    "ds_mon_mean = xr.open_dataset('hgt.mon.ltm.nc')"
   ]
  },
  {
   "cell_type": "code",
   "execution_count": 410,
   "metadata": {
    "collapsed": true
   },
   "outputs": [],
   "source": [
    "def coerce_ltm_ds(ds, years):\n",
    "    orig_times = ds.time.values\n",
    "    concat_datasets = []\n",
    "    for year in years:\n",
    "        ds_for_year = ds.copy()\n",
    "        newtimes = np.array([pd.Timestamp(year=year,\n",
    "                                          month=t.month,\n",
    "                                          day=t.day,\n",
    "                                          hour=t.hour,\n",
    "                                          minute=t.minute) for t in orig_times])\n",
    "        ds_for_year['time'] = newtimes\n",
    "        concat_datasets.append(ds_for_year)\n",
    "        \n",
    "    return xr.concat(concat_datasets, dim='time')"
   ]
  },
  {
   "cell_type": "code",
   "execution_count": 411,
   "metadata": {
    "collapsed": false
   },
   "outputs": [
    {
     "name": "stderr",
     "output_type": "stream",
     "text": [
      "/Users/jitang/anaconda/envs/weather-env-2/lib/python3.8/site-packages/xarray/coding/times.py:83: SerializationWarning: Ambiguous reference date string: 1-1-1 00:00:0.0. The first value is assumed to be the year hence will be padded with zeros to remove the ambiguity (the padded reference date string is: 0001-1-1 00:00:0.0). To remove this message, remove the ambiguity by padding your reference date strings with zeros.\n",
      "  warnings.warn(warning_msg, SerializationWarning)\n"
     ]
    }
   ],
   "source": [
    "ds_mon_mean = coerce_ltm_ds(ds_mon_mean, range(1970, 2021))"
   ]
  },
  {
   "cell_type": "code",
   "execution_count": 412,
   "metadata": {
    "collapsed": false
   },
   "outputs": [],
   "source": [
    "def subset(p, years, months, bbox):\n",
    "    def func(ds):\n",
    "        kw = {}\n",
    "        kw['level'] = p\n",
    "        \n",
    "        north, west, south, east = bbox\n",
    "        kw['lon'] = slice(west, east)\n",
    "        kw['lat'] = slice(north, south)\n",
    "        \n",
    "        time_query = np.in1d(ds['time.month'], months) & (np.in1d(ds['time.year'], years))\n",
    "        kw['time'] = time_query\n",
    "        \n",
    "        return ds.sel(**kw)\n",
    "    \n",
    "    return func"
   ]
  },
  {
   "cell_type": "code",
   "execution_count": 491,
   "metadata": {
    "collapsed": false
   },
   "outputs": [],
   "source": [
    "# aleutians_bbox = (55, 170, 40, 200) # bad\n",
    "aleutians_bbox = (65, 180, 45, 205)\n",
    "hudson_bay_bbox = (65, 260, 50, 290)\n",
    "\n",
    "years = range(1960, 2021)\n",
    "djf = [12, 1, 2]\n",
    "p = 500"
   ]
  },
  {
   "cell_type": "code",
   "execution_count": 492,
   "metadata": {
    "collapsed": false
   },
   "outputs": [],
   "source": [
    "aleutians = subset(p, years, djf, aleutians_bbox)\n",
    "hudson_bay = subset(p, years, djf, hudson_bay_bbox)\n",
    "\n",
    "h5_hgts_aleutians = aleutians(ds_mon)\n",
    "h5_norms_aleutians = aleutians(ds_mon_mean)\n",
    "\n",
    "h5_hgts_hudson = hudson_bay(ds_mon)\n",
    "h5_norms_hudson = hudson_bay(ds_mon_mean)"
   ]
  },
  {
   "cell_type": "code",
   "execution_count": 493,
   "metadata": {
    "collapsed": false
   },
   "outputs": [],
   "source": [
    "h5_anoms_aleutians = h5_hgts_aleutians - h5_norms_aleutians\n",
    "h5_anoms_hudson = h5_hgts_hudson - h5_norms_hudson\n",
    "\n",
    "# h5_anoms_aleutians = h5_anoms_aleutians.sel(time=slice('1970-07-01', '2021-03-01'))\n",
    "# h5_anoms_hudson = h5_anoms_hudson.sel(time=slice('1970-07-01', '2021-03-01'))"
   ]
  },
  {
   "cell_type": "code",
   "execution_count": 494,
   "metadata": {
    "collapsed": false
   },
   "outputs": [],
   "source": [
    "aleutians_anom_means = h5_anoms_aleutians.hgt.mean(['lat', 'lon'])\n",
    "hudson_anom_means = h5_anoms_hudson.hgt.mean(['lat', 'lon'])"
   ]
  },
  {
   "cell_type": "code",
   "execution_count": 495,
   "metadata": {
    "collapsed": false
   },
   "outputs": [
    {
     "data": {
      "text/plain": [
       "-0.4702722723662949"
      ]
     },
     "execution_count": 495,
     "metadata": {},
     "output_type": "execute_result"
    }
   ],
   "source": [
    "aleutians_anom_means.to_dataframe()['hgt'].corr(hudson_anom_means.to_dataframe()['hgt'])"
   ]
  },
  {
   "cell_type": "code",
   "execution_count": 496,
   "metadata": {
    "collapsed": false
   },
   "outputs": [
    {
     "data": {
      "text/plain": [
       "<matplotlib.collections.PathCollection at 0x171f134c0>"
      ]
     },
     "execution_count": 496,
     "metadata": {},
     "output_type": "execute_result"
    },
    {
     "data": {
      "image/png": "[encoded data removed]",
      "text/plain": [
       "<Figure size 432x288 with 1 Axes>"
      ]
     },
     "metadata": {
      "needs_background": "light"
     },
     "output_type": "display_data"
    }
   ],
   "source": [
    "# plt.figure(figsize=(16, 16))\n",
    "\n",
    "plt.scatter(aleutians_anom_means.values, hudson_anom_means.values)"
   ]
  },
  {
   "cell_type": "code",
   "execution_count": 497,
   "metadata": {
    "collapsed": false
   },
   "outputs": [],
   "source": [
    "aleutians_anom_df = aleutians_anom_means.to_dataframe().reset_index()[['time', 'hgt']]\n",
    "hudson_anom_df = hudson_anom_means.to_dataframe().reset_index()[['time', 'hgt']]"
   ]
  },
  {
   "cell_type": "markdown",
   "metadata": {},
   "source": [
    "## Merge together SFO rainfall, Aleutian heights, Hudson Bay heights, and ONI"
   ]
  },
  {
   "cell_type": "code",
   "execution_count": 498,
   "metadata": {
    "collapsed": false
   },
   "outputs": [],
   "source": [
    "full_df = sfo_monthly.merge(aleutians_anom_df, left_on='valid', right_on='time', how='right')\n",
    "full_df = full_df.merge(hudson_anom_df, left_on='valid', right_on='time', \n",
    "                        how='inner', suffixes=['_al', '_hb'])\n",
    "full_df = full_df[['valid','precip_in', 'hgt_al', 'hgt_hb']]\n",
    "full_df = full_df.merge(oni, left_on='valid', right_on='date', how='left').rename(columns={'ANOM': 'oni'})"
   ]
  },
  {
   "cell_type": "code",
   "execution_count": 499,
   "metadata": {
    "collapsed": false
   },
   "outputs": [
    {
     "data": {
      "text/html": [
       "<div>\n",
       "<style scoped>\n",
       "    .dataframe tbody tr th:only-of-type {\n",
       "        vertical-align: middle;\n",
       "    }\n",
       "\n",
       "    .dataframe tbody tr th {\n",
       "        vertical-align: top;\n",
       "    }\n",
       "\n",
       "    .dataframe thead th {\n",
       "        text-align: right;\n",
       "    }\n",
       "</style>\n",
       "<table border=\"1\" class=\"dataframe\">\n",
       "  <thead>\n",
       "    <tr style=\"text-align: right;\">\n",
       "      <th></th>\n",
       "      <th>valid</th>\n",
       "      <th>precip_in</th>\n",
       "      <th>hgt_al</th>\n",
       "      <th>hgt_hb</th>\n",
       "      <th>date</th>\n",
       "      <th>oni</th>\n",
       "    </tr>\n",
       "  </thead>\n",
       "  <tbody>\n",
       "    <tr>\n",
       "      <th>0</th>\n",
       "      <td>1970-01-01</td>\n",
       "      <td>3.12</td>\n",
       "      <td>28.230677</td>\n",
       "      <td>-8.961399</td>\n",
       "      <td>1970-01-01</td>\n",
       "      <td>0.51</td>\n",
       "    </tr>\n",
       "    <tr>\n",
       "      <th>1</th>\n",
       "      <td>1970-02-01</td>\n",
       "      <td>0.70</td>\n",
       "      <td>-79.776405</td>\n",
       "      <td>-91.131516</td>\n",
       "      <td>1970-02-01</td>\n",
       "      <td>0.34</td>\n",
       "    </tr>\n",
       "    <tr>\n",
       "      <th>2</th>\n",
       "      <td>1970-12-01</td>\n",
       "      <td>1.90</td>\n",
       "      <td>66.068237</td>\n",
       "      <td>-4.364929</td>\n",
       "      <td>1970-12-01</td>\n",
       "      <td>-1.15</td>\n",
       "    </tr>\n",
       "    <tr>\n",
       "      <th>3</th>\n",
       "      <td>1971-01-01</td>\n",
       "      <td>0.33</td>\n",
       "      <td>120.898987</td>\n",
       "      <td>-21.300631</td>\n",
       "      <td>1971-01-01</td>\n",
       "      <td>-1.36</td>\n",
       "    </tr>\n",
       "    <tr>\n",
       "      <th>4</th>\n",
       "      <td>1971-02-01</td>\n",
       "      <td>0.12</td>\n",
       "      <td>-40.298065</td>\n",
       "      <td>16.716175</td>\n",
       "      <td>1971-02-01</td>\n",
       "      <td>-1.38</td>\n",
       "    </tr>\n",
       "  </tbody>\n",
       "</table>\n",
       "</div>"
      ],
      "text/plain": [
       "       valid  precip_in      hgt_al     hgt_hb       date   oni\n",
       "0 1970-01-01       3.12   28.230677  -8.961399 1970-01-01  0.51\n",
       "1 1970-02-01       0.70  -79.776405 -91.131516 1970-02-01  0.34\n",
       "2 1970-12-01       1.90   66.068237  -4.364929 1970-12-01 -1.15\n",
       "3 1971-01-01       0.33  120.898987 -21.300631 1971-01-01 -1.36\n",
       "4 1971-02-01       0.12  -40.298065  16.716175 1971-02-01 -1.38"
      ]
     },
     "execution_count": 499,
     "metadata": {},
     "output_type": "execute_result"
    }
   ],
   "source": [
    "full_df.head()"
   ]
  },
  {
   "cell_type": "code",
   "execution_count": 500,
   "metadata": {
    "collapsed": true
   },
   "outputs": [],
   "source": [
    "full_df_nonino = full_df[full_df.oni < 1.5]"
   ]
  },
  {
   "cell_type": "code",
   "execution_count": 501,
   "metadata": {
    "collapsed": false
   },
   "outputs": [
    {
     "data": {
      "text/plain": [
       "(2.87, 2.8395259772546466, 3.535867320261438)"
      ]
     },
     "execution_count": 501,
     "metadata": {},
     "output_type": "execute_result"
    }
   ],
   "source": [
    "mean = full_df.precip_in.mean()\n",
    "median = full_df.precip_in.median()\n",
    "sd = full_df.precip_in.std()\n",
    "\n",
    "median, sd, mean"
   ]
  },
  {
   "cell_type": "code",
   "execution_count": 502,
   "metadata": {
    "collapsed": false
   },
   "outputs": [
    {
     "data": {
      "text/plain": [
       "(70.93585, 59.08104)"
      ]
     },
     "execution_count": 502,
     "metadata": {},
     "output_type": "execute_result"
    }
   ],
   "source": [
    "full_df.hgt_al.std(), full_df.hgt_hb.std()"
   ]
  },
  {
   "cell_type": "markdown",
   "metadata": {},
   "source": [
    "## PLOTS"
   ]
  },
  {
   "cell_type": "code",
   "execution_count": 503,
   "metadata": {
    "collapsed": false
   },
   "outputs": [
    {
     "data": {
      "text/plain": [
       "(40, 40, 73)"
      ]
     },
     "execution_count": 503,
     "metadata": {},
     "output_type": "execute_result"
    }
   ],
   "source": [
    "sorted_df = full_df.sort_values(by='precip_in', ascending=False)\n",
    "\n",
    "low_buck = sorted_df.tail(40)\n",
    "high_buck = sorted_df.head(40)\n",
    "\n",
    "rest = (~sorted_df.index.isin(low_buck.index)) & (~sorted_df.index.isin(high_buck.index))\n",
    "med_buck = sorted_df[rest]\n",
    "\n",
    "len(low_buck), len(high_buck), len(med_buck)"
   ]
  },
  {
   "cell_type": "code",
   "execution_count": 504,
   "metadata": {
    "collapsed": false
   },
   "outputs": [
    {
     "data": {
      "text/plain": [
       "<matplotlib.lines.Line2D at 0x1720596a0>"
      ]
     },
     "execution_count": 504,
     "metadata": {},
     "output_type": "execute_result"
    },
    {
     "data": {
      "image/png": "[encoded data removed]",
      "text/plain": [
       "<Figure size 864x864 with 1 Axes>"
      ]
     },
     "metadata": {
      "needs_background": "light"
     },
     "output_type": "display_data"
    }
   ],
   "source": [
    "plt.figure(figsize=(12, 12))\n",
    "plt.scatter(low_buck.hgt_al, low_buck.hgt_hb, color='red', s=50)\n",
    "plt.scatter(high_buck.hgt_al, high_buck.hgt_hb, color='green', s=50)\n",
    "plt.scatter(med_buck.hgt_al, med_buck.hgt_hb, color='gray', alpha=0.3)\n",
    "# plt.grid(True, which='both')\n",
    "\n",
    "plt.xlim([-180, 180])\n",
    "plt.ylim([-180, 180])\n",
    "\n",
    "circ = plt.Circle((0, 0), 30, color='k', fill=False, ls='--')\n",
    "# circ2 = plt.Circle((0, 0), 50, color='k', fill=False, ls='--')\n",
    "plt.gca().add_patch(circ)\n",
    "# plt.gca().add_patch(circ2)\n",
    "\n",
    "plt.axhline(y=0, color='gray')\n",
    "plt.axvline(x=0, color='gray')"
   ]
  },
  {
   "cell_type": "code",
   "execution_count": 505,
   "metadata": {
    "collapsed": false
   },
   "outputs": [
    {
     "data": {
      "text/plain": [
       "(23, 45, 16, 52)"
      ]
     },
     "execution_count": 505,
     "metadata": {},
     "output_type": "execute_result"
    }
   ],
   "source": [
    "threshold = 30\n",
    "df_to_use = full_df\n",
    "\n",
    "circle_of_death = (df_to_use.hgt_al ** 2 + df_to_use.hgt_hb ** 2) < threshold ** 2\n",
    "\n",
    "q1 = df_to_use[(df_to_use.hgt_al < 0) & (df_to_use.hgt_hb < 0) & ~circle_of_death]\n",
    "q2 = df_to_use[(df_to_use.hgt_al < 0) & (df_to_use.hgt_hb > 0) & ~circle_of_death]\n",
    "q3 = df_to_use[(df_to_use.hgt_al > 0) & (df_to_use.hgt_hb > 0) & ~circle_of_death]\n",
    "q4 = df_to_use[(df_to_use.hgt_al > 0) & (df_to_use.hgt_hb < 0) & ~circle_of_death]\n",
    "\n",
    "len(q1), len(q2), len(q3), len(q4)"
   ]
  },
  {
   "cell_type": "code",
   "execution_count": 506,
   "metadata": {
    "collapsed": false
   },
   "outputs": [
    {
     "data": {
      "text/plain": [
       "{'whiskers': [<matplotlib.lines.Line2D at 0x1724506d0>,\n",
       "  <matplotlib.lines.Line2D at 0x172450a30>,\n",
       "  <matplotlib.lines.Line2D at 0x17245deb0>,\n",
       "  <matplotlib.lines.Line2D at 0x172467220>,\n",
       "  <matplotlib.lines.Line2D at 0x172472580>,\n",
       "  <matplotlib.lines.Line2D at 0x1724728b0>,\n",
       "  <matplotlib.lines.Line2D at 0x172480c10>,\n",
       "  <matplotlib.lines.Line2D at 0x172480f40>],\n",
       " 'caps': [<matplotlib.lines.Line2D at 0x172450d90>,\n",
       "  <matplotlib.lines.Line2D at 0x17245d130>,\n",
       "  <matplotlib.lines.Line2D at 0x172467550>,\n",
       "  <matplotlib.lines.Line2D at 0x172467880>,\n",
       "  <matplotlib.lines.Line2D at 0x172472be0>,\n",
       "  <matplotlib.lines.Line2D at 0x172472f10>,\n",
       "  <matplotlib.lines.Line2D at 0x17248a2b0>,\n",
       "  <matplotlib.lines.Line2D at 0x17248a5e0>],\n",
       " 'boxes': [<matplotlib.lines.Line2D at 0x172450370>,\n",
       "  <matplotlib.lines.Line2D at 0x17245db50>,\n",
       "  <matplotlib.lines.Line2D at 0x172472250>,\n",
       "  <matplotlib.lines.Line2D at 0x1724808e0>],\n",
       " 'medians': [<matplotlib.lines.Line2D at 0x17245d490>,\n",
       "  <matplotlib.lines.Line2D at 0x172467bb0>,\n",
       "  <matplotlib.lines.Line2D at 0x172480280>,\n",
       "  <matplotlib.lines.Line2D at 0x17248a910>],\n",
       " 'fliers': [<matplotlib.lines.Line2D at 0x17245d7f0>,\n",
       "  <matplotlib.lines.Line2D at 0x172467ee0>,\n",
       "  <matplotlib.lines.Line2D at 0x1724805b0>,\n",
       "  <matplotlib.lines.Line2D at 0x17248ac40>],\n",
       " 'means': []}"
      ]
     },
     "execution_count": 506,
     "metadata": {},
     "output_type": "execute_result"
    },
    {
     "data": {
      "image/png": "[encoded data removed]",
      "text/plain": [
       "<Figure size 864x576 with 1 Axes>"
      ]
     },
     "metadata": {
      "needs_background": "light"
     },
     "output_type": "display_data"
    }
   ],
   "source": [
    "plt.figure(figsize=(12, 8))\n",
    "plt.boxplot([q1.precip_in, q2.precip_in, q3.precip_in, q4.precip_in])\n",
    "# plt.ylim([-0.5, 10])"
   ]
  },
  {
   "cell_type": "code",
   "execution_count": 507,
   "metadata": {
    "collapsed": false
   },
   "outputs": [
    {
     "data": {
      "text/plain": [
       "{'bodies': [<matplotlib.collections.PolyCollection at 0x1724e3fa0>,\n",
       "  <matplotlib.collections.PolyCollection at 0x1724f02e0>,\n",
       "  <matplotlib.collections.PolyCollection at 0x1724f0580>,\n",
       "  <matplotlib.collections.PolyCollection at 0x1724f0820>],\n",
       " 'cmaxes': <matplotlib.collections.LineCollection at 0x1724e3e20>,\n",
       " 'cmins': <matplotlib.collections.LineCollection at 0x1724e3d60>,\n",
       " 'cbars': <matplotlib.collections.LineCollection at 0x1724c53d0>}"
      ]
     },
     "execution_count": 507,
     "metadata": {},
     "output_type": "execute_result"
    },
    {
     "data": {
      "image/png": "[encoded data removed]",
      "text/plain": [
       "<Figure size 864x576 with 1 Axes>"
      ]
     },
     "metadata": {
      "needs_background": "light"
     },
     "output_type": "display_data"
    }
   ],
   "source": [
    "plt.figure(figsize=(12, 8))\n",
    "plt.violinplot([q1.precip_in, q2.precip_in, q3.precip_in, q4.precip_in])"
   ]
  },
  {
   "cell_type": "markdown",
   "metadata": {},
   "source": [
    "## Find Hudson Bay corr — control for weak Aleutian hgt signal"
   ]
  },
  {
   "cell_type": "code",
   "execution_count": 508,
   "metadata": {
    "collapsed": false
   },
   "outputs": [
    {
     "data": {
      "text/plain": [
       "47"
      ]
     },
     "execution_count": 508,
     "metadata": {},
     "output_type": "execute_result"
    }
   ],
   "source": [
    "minimal_al = full_df[(full_df.hgt_al > -30) & (full_df.hgt_al < 30)]\n",
    "len(minimal_al)"
   ]
  },
  {
   "cell_type": "code",
   "execution_count": 509,
   "metadata": {
    "collapsed": false
   },
   "outputs": [
    {
     "data": {
      "text/plain": [
       "(0.4484226398506586, 0.001571456494638099)"
      ]
     },
     "execution_count": 509,
     "metadata": {},
     "output_type": "execute_result"
    }
   ],
   "source": [
    "pearsonr(minimal_al.hgt_hb,minimal_al.precip_in)"
   ]
  },
  {
   "cell_type": "code",
   "execution_count": 510,
   "metadata": {
    "collapsed": false
   },
   "outputs": [
    {
     "data": {
      "text/plain": [
       "<matplotlib.collections.PathCollection at 0x17269d430>"
      ]
     },
     "execution_count": 510,
     "metadata": {},
     "output_type": "execute_result"
    },
    {
     "data": {
      "image/png": "[encoded data removed]",
      "text/plain": [
       "<Figure size 432x288 with 1 Axes>"
      ]
     },
     "metadata": {
      "needs_background": "light"
     },
     "output_type": "display_data"
    }
   ],
   "source": [
    "plt.scatter(x=minimal_al.hgt_hb, y=minimal_al.precip_in)"
   ]
  },
  {
   "cell_type": "markdown",
   "metadata": {},
   "source": [
    "## Find Aleutian Low corr — control for weak Hudson Bay signal"
   ]
  },
  {
   "cell_type": "code",
   "execution_count": 511,
   "metadata": {
    "collapsed": false
   },
   "outputs": [
    {
     "data": {
      "text/plain": [
       "58"
      ]
     },
     "execution_count": 511,
     "metadata": {},
     "output_type": "execute_result"
    }
   ],
   "source": [
    "minimal_hb = full_df[(full_df.hgt_hb > -30) & (full_df.hgt_hb < 30)]\n",
    "len(minimal_hb)"
   ]
  },
  {
   "cell_type": "code",
   "execution_count": 512,
   "metadata": {
    "collapsed": false
   },
   "outputs": [
    {
     "data": {
      "text/plain": [
       "(0.08098203713583342, 0.545638225293915)"
      ]
     },
     "execution_count": 512,
     "metadata": {},
     "output_type": "execute_result"
    }
   ],
   "source": [
    "pearsonr(minimal_hb.hgt_al,minimal_hb.precip_in)"
   ]
  },
  {
   "cell_type": "code",
   "execution_count": 513,
   "metadata": {
    "collapsed": false
   },
   "outputs": [
    {
     "data": {
      "text/plain": [
       "<matplotlib.collections.PathCollection at 0x17275fd00>"
      ]
     },
     "execution_count": 513,
     "metadata": {},
     "output_type": "execute_result"
    },
    {
     "data": {
      "image/png": "[encoded data removed]",
      "text/plain": [
       "<Figure size 432x288 with 1 Axes>"
      ]
     },
     "metadata": {
      "needs_background": "light"
     },
     "output_type": "display_data"
    }
   ],
   "source": [
    "plt.scatter(x=minimal_hb.hgt_al, y=minimal_hb.precip_in)"
   ]
  },
  {
   "cell_type": "markdown",
   "metadata": {},
   "source": [
    "## Find ONI corr — control for weak Hudson Bay Low"
   ]
  },
  {
   "cell_type": "code",
   "execution_count": 514,
   "metadata": {
    "collapsed": false
   },
   "outputs": [
    {
     "data": {
      "text/plain": [
       "69"
      ]
     },
     "execution_count": 514,
     "metadata": {},
     "output_type": "execute_result"
    }
   ],
   "source": [
    "weak_hb = full_df[full_df.hgt_hb > 0]\n",
    "len(weak_hb)"
   ]
  },
  {
   "cell_type": "code",
   "execution_count": 515,
   "metadata": {
    "collapsed": false
   },
   "outputs": [
    {
     "data": {
      "text/plain": [
       "(0.21177042734804818, 0.08066644307715135)"
      ]
     },
     "execution_count": 515,
     "metadata": {},
     "output_type": "execute_result"
    }
   ],
   "source": [
    "pearsonr(weak_hb.oni, weak_hb.precip_in)"
   ]
  },
  {
   "cell_type": "code",
   "execution_count": 516,
   "metadata": {
    "collapsed": false
   },
   "outputs": [
    {
     "data": {
      "text/plain": [
       "<matplotlib.collections.PathCollection at 0x16ce5e850>"
      ]
     },
     "execution_count": 516,
     "metadata": {},
     "output_type": "execute_result"
    },
    {
     "data": {
      "image/png": "[encoded data removed]",
      "text/plain": [
       "<Figure size 432x288 with 1 Axes>"
      ]
     },
     "metadata": {
      "needs_background": "light"
     },
     "output_type": "display_data"
    }
   ],
   "source": [
    "plt.scatter(weak_hb.oni, weak_hb.precip_in)"
   ]
  },
  {
   "cell_type": "markdown",
   "metadata": {},
   "source": [
    "## Find Aleutian low corr — control for non-strong Nino"
   ]
  },
  {
   "cell_type": "code",
   "execution_count": 517,
   "metadata": {
    "collapsed": false
   },
   "outputs": [
    {
     "data": {
      "text/plain": [
       "137"
      ]
     },
     "execution_count": 517,
     "metadata": {},
     "output_type": "execute_result"
    }
   ],
   "source": [
    "non_nino = full_df[full_df.oni < 1.5]\n",
    "len(non_nino)"
   ]
  },
  {
   "cell_type": "code",
   "execution_count": 518,
   "metadata": {
    "collapsed": false
   },
   "outputs": [
    {
     "data": {
      "text/plain": [
       "(0.026770879938072867, 0.7561581617785361)"
      ]
     },
     "execution_count": 518,
     "metadata": {},
     "output_type": "execute_result"
    }
   ],
   "source": [
    "pearsonr(non_nino.hgt_al, non_nino.precip_in)"
   ]
  },
  {
   "cell_type": "code",
   "execution_count": 519,
   "metadata": {
    "collapsed": false
   },
   "outputs": [
    {
     "data": {
      "text/plain": [
       "<matplotlib.collections.PathCollection at 0x16fc7be80>"
      ]
     },
     "execution_count": 519,
     "metadata": {},
     "output_type": "execute_result"
    },
    {
     "data": {
      "image/png": "[encoded data removed]",
      "text/plain": [
       "<Figure size 432x288 with 1 Axes>"
      ]
     },
     "metadata": {
      "needs_background": "light"
     },
     "output_type": "display_data"
    }
   ],
   "source": [
    "plt.scatter(non_nino.hgt_al, non_nino.precip_in)"
   ]
  },
  {
   "cell_type": "markdown",
   "metadata": {},
   "source": [
    "## Find correlations between ONI and Hudson Bay/Aleutian heights"
   ]
  },
  {
   "cell_type": "code",
   "execution_count": 520,
   "metadata": {
    "collapsed": false
   },
   "outputs": [
    {
     "data": {
      "text/plain": [
       "(0.25469379622940036, 0.0014874769265338093)"
      ]
     },
     "execution_count": 520,
     "metadata": {},
     "output_type": "execute_result"
    }
   ],
   "source": [
    "pearsonr(full_df.oni, full_df.hgt_hb)"
   ]
  },
  {
   "cell_type": "code",
   "execution_count": 521,
   "metadata": {
    "collapsed": false
   },
   "outputs": [
    {
     "data": {
      "text/plain": [
       "<matplotlib.collections.PathCollection at 0x16d85c610>"
      ]
     },
     "execution_count": 521,
     "metadata": {},
     "output_type": "execute_result"
    },
    {
     "data": {
      "image/png": "[encoded data removed]",
      "text/plain": [
       "<Figure size 432x288 with 1 Axes>"
      ]
     },
     "metadata": {
      "needs_background": "light"
     },
     "output_type": "display_data"
    }
   ],
   "source": [
    "plt.scatter(full_df.oni, full_df.hgt_hb)"
   ]
  },
  {
   "cell_type": "code",
   "execution_count": 522,
   "metadata": {
    "collapsed": false
   },
   "outputs": [
    {
     "data": {
      "text/html": [
       "<div>\n",
       "<style scoped>\n",
       "    .dataframe tbody tr th:only-of-type {\n",
       "        vertical-align: middle;\n",
       "    }\n",
       "\n",
       "    .dataframe tbody tr th {\n",
       "        vertical-align: top;\n",
       "    }\n",
       "\n",
       "    .dataframe thead th {\n",
       "        text-align: right;\n",
       "    }\n",
       "</style>\n",
       "<table border=\"1\" class=\"dataframe\">\n",
       "  <thead>\n",
       "    <tr style=\"text-align: right;\">\n",
       "      <th></th>\n",
       "      <th>valid</th>\n",
       "      <th>precip_in</th>\n",
       "      <th>hgt_al</th>\n",
       "      <th>hgt_hb</th>\n",
       "      <th>date</th>\n",
       "      <th>oni</th>\n",
       "    </tr>\n",
       "  </thead>\n",
       "  <tbody>\n",
       "    <tr>\n",
       "      <th>8</th>\n",
       "      <td>1972-12-01</td>\n",
       "      <td>0.72</td>\n",
       "      <td>83.777237</td>\n",
       "      <td>-88.918648</td>\n",
       "      <td>1972-12-01</td>\n",
       "      <td>2.12</td>\n",
       "    </tr>\n",
       "    <tr>\n",
       "      <th>65</th>\n",
       "      <td>1991-12-01</td>\n",
       "      <td>2.70</td>\n",
       "      <td>-69.881912</td>\n",
       "      <td>-31.133457</td>\n",
       "      <td>1991-12-01</td>\n",
       "      <td>1.53</td>\n",
       "    </tr>\n",
       "    <tr>\n",
       "      <th>139</th>\n",
       "      <td>2016-02-01</td>\n",
       "      <td>0.88</td>\n",
       "      <td>-74.276833</td>\n",
       "      <td>-35.240620</td>\n",
       "      <td>2016-02-01</td>\n",
       "      <td>2.14</td>\n",
       "    </tr>\n",
       "  </tbody>\n",
       "</table>\n",
       "</div>"
      ],
      "text/plain": [
       "         valid  precip_in     hgt_al     hgt_hb       date   oni\n",
       "8   1972-12-01       0.72  83.777237 -88.918648 1972-12-01  2.12\n",
       "65  1991-12-01       2.70 -69.881912 -31.133457 1991-12-01  1.53\n",
       "139 2016-02-01       0.88 -74.276833 -35.240620 2016-02-01  2.14"
      ]
     },
     "execution_count": 522,
     "metadata": {},
     "output_type": "execute_result"
    }
   ],
   "source": [
    "full_df[(full_df.hgt_hb < -30) & (full_df.oni > 1)]"
   ]
  },
  {
   "cell_type": "code",
   "execution_count": 523,
   "metadata": {
    "collapsed": false
   },
   "outputs": [
    {
     "data": {
      "text/plain": [
       "(-0.28879436144732795, 0.00029420936896026585)"
      ]
     },
     "execution_count": 523,
     "metadata": {},
     "output_type": "execute_result"
    }
   ],
   "source": [
    "pearsonr(full_df.oni, full_df.hgt_al)"
   ]
  },
  {
   "cell_type": "code",
   "execution_count": 524,
   "metadata": {
    "collapsed": false
   },
   "outputs": [
    {
     "data": {
      "text/plain": [
       "<matplotlib.collections.PathCollection at 0x16f27bca0>"
      ]
     },
     "execution_count": 524,
     "metadata": {},
     "output_type": "execute_result"
    },
    {
     "data": {
      "image/png": "[encoded data removed]",
      "text/plain": [
       "<Figure size 432x288 with 1 Axes>"
      ]
     },
     "metadata": {
      "needs_background": "light"
     },
     "output_type": "display_data"
    }
   ],
   "source": [
    "plt.scatter(full_df.oni, full_df.hgt_al)"
   ]
  }
 ],
 "metadata": {
  "kernelspec": {
   "display_name": "weather-env-2",
   "language": "python",
   "name": "weather-env-2"
  },
  "language_info": {
   "codemirror_mode": {
    "name": "ipython",
    "version": 3
   },
   "file_extension": ".py",
   "mimetype": "text/x-python",
   "name": "python",
   "nbconvert_exporter": "python",
   "pygments_lexer": "ipython3",
   "version": "3.8.6"
  }
 },
 "nbformat": 4,
 "nbformat_minor": 2
}
