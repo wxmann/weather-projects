{
 "cells": [
  {
   "cell_type": "code",
   "execution_count": 11,
   "id": "nutritional-front",
   "metadata": {},
   "outputs": [
    {
     "name": "stdout",
     "output_type": "stream",
     "text": [
      "The autoreload extension is already loaded. To reload it, use:\n",
      "  %reload_ext autoreload\n"
     ]
    }
   ],
   "source": [
    "# %load_ext autoreload\n",
    "# %autoreload 2\n",
    "\n",
    "import sys\n",
    "sys.path.append('..')\n",
    "\n",
    "from lib.obs import asos_raw, hourly_precip\n",
    "from events_calc import precip_events\n",
    "\n",
    "import pandas as pd\n",
    "import numpy as np\n",
    "import matplotlib.pyplot as plt"
   ]
  },
  {
   "cell_type": "code",
   "execution_count": 25,
   "id": "blond-stephen",
   "metadata": {},
   "outputs": [],
   "source": [
    "def precip_temp(precip_hrs, obs):\n",
    "    precip_clusts = precip_events(precip_hrs, eps=6, min_samples=6)\n",
    "    \n",
    "    events = precip_hrs.copy()\n",
    "    events['clust'] = precip_clusts\n",
    "    events = events[events.clust >= 0]\n",
    "    events['hour'] = events.valid.dt.hour\n",
    "    events['date'] = events.valid.dt.date.astype('datetime64')\n",
    "    \n",
    "    temp_obs = obs.copy()\n",
    "    temp_obs['date'] = temp_obs.valid.dt.date.astype('datetime64')\n",
    "    temp_obs['hour'] = temp_obs.valid.dt.hour\n",
    "    temp_obs_mean = temp_obs.groupby(['date', 'hour'], as_index=False).mean()[['date', 'hour', 'tmpf']]\n",
    "    \n",
    "    merged = events.merge(temp_obs_mean, on=['date', 'hour'], how='left')\n",
    "    events_agg = merged.groupby('clust', as_index=False).agg({\n",
    "        'precip_in': sum,\n",
    "        'valid': ['min','max'],\n",
    "        'tmpf': 'mean'\n",
    "    })\n",
    "    events_agg.columns.droplevel(level=0)\n",
    "    events_agg.columns = ['clust', 'precip', 'start_time', 'end_time', 'temp'] \n",
    "    del events_agg['clust']\n",
    "    return events_agg"
   ]
  },
  {
   "cell_type": "code",
   "execution_count": 33,
   "id": "beautiful-inventory",
   "metadata": {},
   "outputs": [],
   "source": [
    "station = 'SFO'\n",
    "time_periods = [\n",
    "#     ('1970-07-01', '1980-06-30'),\n",
    "#     ('1980-07-01', '1990-06-30'),\n",
    "    ('1990-07-01', '2000-06-30'),\n",
    "    ('2000-07-01', '2010-06-30'),\n",
    "    ('2010-07-01', '2020-06-30')\n",
    "]"
   ]
  },
  {
   "cell_type": "code",
   "execution_count": 37,
   "id": "express-danger",
   "metadata": {},
   "outputs": [
    {
     "name": "stderr",
     "output_type": "stream",
     "text": [
      "/Users/jitang/anaconda/envs/weather-env-2/lib/python3.8/site-packages/IPython/core/interactiveshell.py:3347: DtypeWarning: Columns (28) have mixed types.Specify dtype option on import or set low_memory=False.\n",
      "  if (await self.run_code(code, result,  async_=asy)):\n",
      "/Users/jitang/anaconda/envs/weather-env-2/lib/python3.8/site-packages/IPython/core/interactiveshell.py:3347: DtypeWarning: Columns (28) have mixed types.Specify dtype option on import or set low_memory=False.\n",
      "  if (await self.run_code(code, result,  async_=asy)):\n",
      "/Users/jitang/anaconda/envs/weather-env-2/lib/python3.8/site-packages/IPython/core/interactiveshell.py:3347: DtypeWarning: Columns (28) have mixed types.Specify dtype option on import or set low_memory=False.\n",
      "  if (await self.run_code(code, result,  async_=asy)):\n",
      "/Users/jitang/anaconda/envs/weather-env-2/lib/python3.8/site-packages/IPython/core/interactiveshell.py:3347: DtypeWarning: Columns (17) have mixed types.Specify dtype option on import or set low_memory=False.\n",
      "  if (await self.run_code(code, result,  async_=asy)):\n"
     ]
    }
   ],
   "source": [
    "dfs = []\n",
    "for period in time_periods:\n",
    "    obs = asos_raw(station, *period)\n",
    "    precip = hourly_precip(station, *period)\n",
    "    events = precip_temp(precip, obs)\n",
    "    dfs.append(events[events.start_time.dt.month.isin([12, 1, 2, 3])])\n",
    "    \n",
    "all_events = pd.concat(dfs)"
   ]
  },
  {
   "cell_type": "code",
   "execution_count": 79,
   "id": "imperial-success",
   "metadata": {},
   "outputs": [],
   "source": [
    "good_events = all_events[all_events.start_time.dt.year >= 1990]"
   ]
  },
  {
   "cell_type": "code",
   "execution_count": 87,
   "id": "approximate-tunnel",
   "metadata": {},
   "outputs": [
    {
     "data": {
      "text/plain": [
       "1.4818643170831587"
      ]
     },
     "execution_count": 87,
     "metadata": {},
     "output_type": "execute_result"
    }
   ],
   "source": [
    "one_sd_wet = good_events.precip.mean() + 1.5 * good_events.precip.std()\n",
    "one_sd_wet"
   ]
  },
  {
   "cell_type": "code",
   "execution_count": 84,
   "id": "average-refund",
   "metadata": {},
   "outputs": [],
   "source": [
    "warmest_wet = good_events[good_events.precip >= one_sd_wet].sort_values(by='temp').tail(10)\n",
    "coldest_wet = good_events[good_events.precip >= one_sd_wet].sort_values(by='temp').head(10)"
   ]
  },
  {
   "cell_type": "code",
   "execution_count": 85,
   "id": "unlike-judge",
   "metadata": {},
   "outputs": [
    {
     "data": {
      "text/html": [
       "<div>\n",
       "<style scoped>\n",
       "    .dataframe tbody tr th:only-of-type {\n",
       "        vertical-align: middle;\n",
       "    }\n",
       "\n",
       "    .dataframe tbody tr th {\n",
       "        vertical-align: top;\n",
       "    }\n",
       "\n",
       "    .dataframe thead th {\n",
       "        text-align: right;\n",
       "    }\n",
       "</style>\n",
       "<table border=\"1\" class=\"dataframe\">\n",
       "  <thead>\n",
       "    <tr style=\"text-align: right;\">\n",
       "      <th></th>\n",
       "      <th>precip</th>\n",
       "      <th>start_time</th>\n",
       "      <th>end_time</th>\n",
       "      <th>temp</th>\n",
       "    </tr>\n",
       "  </thead>\n",
       "  <tbody>\n",
       "    <tr>\n",
       "      <th>175</th>\n",
       "      <td>1.75</td>\n",
       "      <td>1995-03-08 17:00:00</td>\n",
       "      <td>1995-03-09 20:00:00</td>\n",
       "      <td>59.191250</td>\n",
       "    </tr>\n",
       "    <tr>\n",
       "      <th>197</th>\n",
       "      <td>4.14</td>\n",
       "      <td>1995-12-11 09:00:00</td>\n",
       "      <td>1995-12-12 19:00:00</td>\n",
       "      <td>59.275294</td>\n",
       "    </tr>\n",
       "    <tr>\n",
       "      <th>252</th>\n",
       "      <td>2.30</td>\n",
       "      <td>1997-01-01 06:00:00</td>\n",
       "      <td>1997-01-02 23:00:00</td>\n",
       "      <td>61.606029</td>\n",
       "    </tr>\n",
       "    <tr>\n",
       "      <th>76</th>\n",
       "      <td>2.61</td>\n",
       "      <td>2002-12-13 09:00:00</td>\n",
       "      <td>2002-12-14 09:00:00</td>\n",
       "      <td>59.579600</td>\n",
       "    </tr>\n",
       "    <tr>\n",
       "      <th>78</th>\n",
       "      <td>2.38</td>\n",
       "      <td>2002-12-15 18:00:00</td>\n",
       "      <td>2002-12-16 18:00:00</td>\n",
       "      <td>58.236000</td>\n",
       "    </tr>\n",
       "    <tr>\n",
       "      <th>203</th>\n",
       "      <td>2.40</td>\n",
       "      <td>2005-12-30 17:00:00</td>\n",
       "      <td>2005-12-31 20:00:00</td>\n",
       "      <td>59.830250</td>\n",
       "    </tr>\n",
       "    <tr>\n",
       "      <th>127</th>\n",
       "      <td>3.58</td>\n",
       "      <td>2014-12-02 09:00:00</td>\n",
       "      <td>2014-12-04 17:00:00</td>\n",
       "      <td>59.780476</td>\n",
       "    </tr>\n",
       "    <tr>\n",
       "      <th>170</th>\n",
       "      <td>1.61</td>\n",
       "      <td>2016-03-05 21:00:00</td>\n",
       "      <td>2016-03-06 13:00:00</td>\n",
       "      <td>58.534500</td>\n",
       "    </tr>\n",
       "    <tr>\n",
       "      <th>198</th>\n",
       "      <td>1.78</td>\n",
       "      <td>2017-01-08 04:00:00</td>\n",
       "      <td>2017-01-09 08:00:00</td>\n",
       "      <td>59.656000</td>\n",
       "    </tr>\n",
       "    <tr>\n",
       "      <th>209</th>\n",
       "      <td>1.52</td>\n",
       "      <td>2017-02-06 01:00:00</td>\n",
       "      <td>2017-02-07 18:00:00</td>\n",
       "      <td>58.672929</td>\n",
       "    </tr>\n",
       "  </tbody>\n",
       "</table>\n",
       "</div>"
      ],
      "text/plain": [
       "     precip          start_time            end_time       temp\n",
       "175    1.75 1995-03-08 17:00:00 1995-03-09 20:00:00  59.191250\n",
       "197    4.14 1995-12-11 09:00:00 1995-12-12 19:00:00  59.275294\n",
       "252    2.30 1997-01-01 06:00:00 1997-01-02 23:00:00  61.606029\n",
       "76     2.61 2002-12-13 09:00:00 2002-12-14 09:00:00  59.579600\n",
       "78     2.38 2002-12-15 18:00:00 2002-12-16 18:00:00  58.236000\n",
       "203    2.40 2005-12-30 17:00:00 2005-12-31 20:00:00  59.830250\n",
       "127    3.58 2014-12-02 09:00:00 2014-12-04 17:00:00  59.780476\n",
       "170    1.61 2016-03-05 21:00:00 2016-03-06 13:00:00  58.534500\n",
       "198    1.78 2017-01-08 04:00:00 2017-01-09 08:00:00  59.656000\n",
       "209    1.52 2017-02-06 01:00:00 2017-02-07 18:00:00  58.672929"
      ]
     },
     "execution_count": 85,
     "metadata": {},
     "output_type": "execute_result"
    }
   ],
   "source": [
    "warmest_wet.sort_values(by='start_time')"
   ]
  },
  {
   "cell_type": "code",
   "execution_count": 86,
   "id": "downtown-phenomenon",
   "metadata": {},
   "outputs": [
    {
     "data": {
      "text/html": [
       "<div>\n",
       "<style scoped>\n",
       "    .dataframe tbody tr th:only-of-type {\n",
       "        vertical-align: middle;\n",
       "    }\n",
       "\n",
       "    .dataframe tbody tr th {\n",
       "        vertical-align: top;\n",
       "    }\n",
       "\n",
       "    .dataframe thead th {\n",
       "        text-align: right;\n",
       "    }\n",
       "</style>\n",
       "<table border=\"1\" class=\"dataframe\">\n",
       "  <thead>\n",
       "    <tr style=\"text-align: right;\">\n",
       "      <th></th>\n",
       "      <th>precip</th>\n",
       "      <th>start_time</th>\n",
       "      <th>end_time</th>\n",
       "      <th>temp</th>\n",
       "    </tr>\n",
       "  </thead>\n",
       "  <tbody>\n",
       "    <tr>\n",
       "      <th>77</th>\n",
       "      <td>2.49</td>\n",
       "      <td>1993-01-05 23:00:00</td>\n",
       "      <td>1993-01-07 11:00:00</td>\n",
       "      <td>43.964375</td>\n",
       "    </tr>\n",
       "    <tr>\n",
       "      <th>181</th>\n",
       "      <td>1.83</td>\n",
       "      <td>1995-03-22 09:00:00</td>\n",
       "      <td>1995-03-23 07:00:00</td>\n",
       "      <td>49.329091</td>\n",
       "    </tr>\n",
       "    <tr>\n",
       "      <th>12</th>\n",
       "      <td>1.78</td>\n",
       "      <td>2001-01-10 15:00:00</td>\n",
       "      <td>2001-01-12 01:00:00</td>\n",
       "      <td>49.927520</td>\n",
       "    </tr>\n",
       "    <tr>\n",
       "      <th>154</th>\n",
       "      <td>2.57</td>\n",
       "      <td>2004-12-27 01:00:00</td>\n",
       "      <td>2004-12-28 10:00:00</td>\n",
       "      <td>50.254000</td>\n",
       "    </tr>\n",
       "    <tr>\n",
       "      <th>297</th>\n",
       "      <td>2.32</td>\n",
       "      <td>2008-01-25 11:00:00</td>\n",
       "      <td>2008-01-26 08:00:00</td>\n",
       "      <td>50.483158</td>\n",
       "    </tr>\n",
       "    <tr>\n",
       "      <th>333</th>\n",
       "      <td>2.70</td>\n",
       "      <td>2009-02-15 10:00:00</td>\n",
       "      <td>2009-02-17 00:00:00</td>\n",
       "      <td>48.270714</td>\n",
       "    </tr>\n",
       "    <tr>\n",
       "      <th>362</th>\n",
       "      <td>3.69</td>\n",
       "      <td>2010-01-19 11:00:00</td>\n",
       "      <td>2010-01-22 02:00:00</td>\n",
       "      <td>49.411413</td>\n",
       "    </tr>\n",
       "    <tr>\n",
       "      <th>23</th>\n",
       "      <td>1.72</td>\n",
       "      <td>2011-02-18 18:00:00</td>\n",
       "      <td>2011-02-20 00:00:00</td>\n",
       "      <td>43.305000</td>\n",
       "    </tr>\n",
       "    <tr>\n",
       "      <th>29</th>\n",
       "      <td>1.84</td>\n",
       "      <td>2011-03-18 07:00:00</td>\n",
       "      <td>2011-03-20 13:00:00</td>\n",
       "      <td>49.416286</td>\n",
       "    </tr>\n",
       "    <tr>\n",
       "      <th>189</th>\n",
       "      <td>1.76</td>\n",
       "      <td>2016-12-07 23:00:00</td>\n",
       "      <td>2016-12-09 02:00:00</td>\n",
       "      <td>50.600000</td>\n",
       "    </tr>\n",
       "  </tbody>\n",
       "</table>\n",
       "</div>"
      ],
      "text/plain": [
       "     precip          start_time            end_time       temp\n",
       "77     2.49 1993-01-05 23:00:00 1993-01-07 11:00:00  43.964375\n",
       "181    1.83 1995-03-22 09:00:00 1995-03-23 07:00:00  49.329091\n",
       "12     1.78 2001-01-10 15:00:00 2001-01-12 01:00:00  49.927520\n",
       "154    2.57 2004-12-27 01:00:00 2004-12-28 10:00:00  50.254000\n",
       "297    2.32 2008-01-25 11:00:00 2008-01-26 08:00:00  50.483158\n",
       "333    2.70 2009-02-15 10:00:00 2009-02-17 00:00:00  48.270714\n",
       "362    3.69 2010-01-19 11:00:00 2010-01-22 02:00:00  49.411413\n",
       "23     1.72 2011-02-18 18:00:00 2011-02-20 00:00:00  43.305000\n",
       "29     1.84 2011-03-18 07:00:00 2011-03-20 13:00:00  49.416286\n",
       "189    1.76 2016-12-07 23:00:00 2016-12-09 02:00:00  50.600000"
      ]
     },
     "execution_count": 86,
     "metadata": {},
     "output_type": "execute_result"
    }
   ],
   "source": [
    "coldest_wet.sort_values(by='start_time')"
   ]
  },
  {
   "cell_type": "code",
   "execution_count": 88,
   "id": "detailed-timber",
   "metadata": {},
   "outputs": [
    {
     "data": {
      "text/plain": [
       "<matplotlib.collections.PathCollection at 0x1845588e0>"
      ]
     },
     "execution_count": 88,
     "metadata": {},
     "output_type": "execute_result"
    },
    {
     "data": {
      "image/png": "[encoded data removed]",
      "text/plain": [
       "<Figure size 864x864 with 1 Axes>"
      ]
     },
     "metadata": {
      "needs_background": "light"
     },
     "output_type": "display_data"
    }
   ],
   "source": [
    "plt.figure(figsize=(12, 12))\n",
    "plt.scatter(x=good_events.precip, y=good_events.temp)"
   ]
  }
 ],
 "metadata": {
  "kernelspec": {
   "display_name": "weather-env-2",
   "language": "python",
   "name": "weather-env-2"
  },
  "language_info": {
   "codemirror_mode": {
    "name": "ipython",
    "version": 3
   },
   "file_extension": ".py",
   "mimetype": "text/x-python",
   "name": "python",
   "nbconvert_exporter": "python",
   "pygments_lexer": "ipython3",
   "version": "3.8.6"
  }
 },
 "nbformat": 4,
 "nbformat_minor": 5
}
