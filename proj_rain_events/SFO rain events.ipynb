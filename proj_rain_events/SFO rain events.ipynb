{
 "cells": [
  {
   "cell_type": "code",
   "execution_count": 24,
   "metadata": {},
   "outputs": [],
   "source": [
    "import sys\n",
    "sys.path.append('..')\n",
    "\n",
    "from events_calc import precip_events\n",
    "from lib.iem import hourly_precip\n",
    "\n",
    "import numpy as np\n",
    "import pandas as pd\n",
    "import warnings"
   ]
  },
  {
   "cell_type": "code",
   "execution_count": 6,
   "metadata": {},
   "outputs": [],
   "source": [
    "dfs = []\n",
    "eps = 6\n",
    "min_samples = 6\n",
    "date_ = pd.Timestamp('1980-07-01')\n",
    "batch = 0\n",
    "\n",
    "pd.options.mode.chained_assignment = None\n",
    "while date_ < pd.Timestamp('2020-01-01'):\n",
    "    time_interval = (date_, date_ + pd.Timedelta(365, 'D'))\n",
    "    rainfall = hourly_precip('SFO', *time_interval)\n",
    "    rainfall = rainfall[rainfall.precip_in >= 0.01]\n",
    "    rainfall['clust'] = precip_events(rainfall, eps, min_samples)\n",
    "    \n",
    "    max_cluster = rainfall['clust'].max()\n",
    "    df_to_add = rainfall[rainfall.clust >= 0]\n",
    "    df_to_add['clust'] += batch\n",
    "    dfs.append(df_to_add)\n",
    "    \n",
    "    date_ = date_ + pd.Timedelta(365, 'D')\n",
    "    batch += max_cluster"
   ]
  },
  {
   "cell_type": "code",
   "execution_count": 7,
   "metadata": {},
   "outputs": [],
   "source": [
    "dfs_combined = pd.concat(dfs)"
   ]
  },
  {
   "cell_type": "code",
   "execution_count": 8,
   "metadata": {},
   "outputs": [],
   "source": [
    "rain_events = dfs_combined.groupby('clust', as_index=False).agg({\n",
    "    'precip_in': sum,\n",
    "    'valid': [lambda r: pd.Timestamp(np.nanmean([tsp.value for tsp in r]))]\n",
    "})\n",
    "rain_events.columns.droplevel(level=0)\n",
    "rain_events.columns = ['clust', 'precip', 'mean_time']"
   ]
  },
  {
   "cell_type": "code",
   "execution_count": 9,
   "metadata": {},
   "outputs": [
    {
     "data": {
      "text/html": [
       "<div>\n",
       "<style scoped>\n",
       "    .dataframe tbody tr th:only-of-type {\n",
       "        vertical-align: middle;\n",
       "    }\n",
       "\n",
       "    .dataframe tbody tr th {\n",
       "        vertical-align: top;\n",
       "    }\n",
       "\n",
       "    .dataframe thead th {\n",
       "        text-align: right;\n",
       "    }\n",
       "</style>\n",
       "<table border=\"1\" class=\"dataframe\">\n",
       "  <thead>\n",
       "    <tr style=\"text-align: right;\">\n",
       "      <th></th>\n",
       "      <th>clust</th>\n",
       "      <th>precip</th>\n",
       "      <th>mean_time</th>\n",
       "    </tr>\n",
       "  </thead>\n",
       "  <tbody>\n",
       "    <tr>\n",
       "      <th>1473</th>\n",
       "      <td>1473</td>\n",
       "      <td>0.29</td>\n",
       "      <td>2020-04-05 00:34:17.142857216</td>\n",
       "    </tr>\n",
       "    <tr>\n",
       "      <th>1474</th>\n",
       "      <td>1474</td>\n",
       "      <td>0.41</td>\n",
       "      <td>2020-04-05 16:30:00.000000000</td>\n",
       "    </tr>\n",
       "    <tr>\n",
       "      <th>1475</th>\n",
       "      <td>1475</td>\n",
       "      <td>0.66</td>\n",
       "      <td>2020-04-06 20:34:17.142857216</td>\n",
       "    </tr>\n",
       "    <tr>\n",
       "      <th>1476</th>\n",
       "      <td>1476</td>\n",
       "      <td>0.14</td>\n",
       "      <td>2020-05-17 12:30:00.000000000</td>\n",
       "    </tr>\n",
       "    <tr>\n",
       "      <th>1477</th>\n",
       "      <td>1477</td>\n",
       "      <td>0.07</td>\n",
       "      <td>2020-05-18 09:20:00.000000000</td>\n",
       "    </tr>\n",
       "  </tbody>\n",
       "</table>\n",
       "</div>"
      ],
      "text/plain": [
       "      clust  precip                     mean_time\n",
       "1473   1473    0.29 2020-04-05 00:34:17.142857216\n",
       "1474   1474    0.41 2020-04-05 16:30:00.000000000\n",
       "1475   1475    0.66 2020-04-06 20:34:17.142857216\n",
       "1476   1476    0.14 2020-05-17 12:30:00.000000000\n",
       "1477   1477    0.07 2020-05-18 09:20:00.000000000"
      ]
     },
     "execution_count": 9,
     "metadata": {},
     "output_type": "execute_result"
    }
   ],
   "source": [
    "rain_events.tail()"
   ]
  },
  {
   "cell_type": "code",
   "execution_count": 25,
   "metadata": {},
   "outputs": [
    {
     "data": {
      "text/plain": [
       "(0.5108930987821381, 0.5962053448342627, 1.7033037884506634)"
      ]
     },
     "execution_count": 25,
     "metadata": {},
     "output_type": "execute_result"
    }
   ],
   "source": [
    "u = rain_events.precip.mean()\n",
    "sd = rain_events.precip.std()\n",
    "\n",
    "threshold = u + 2* sd\n",
    "u, sd, threshold"
   ]
  },
  {
   "cell_type": "code",
   "execution_count": 11,
   "metadata": {},
   "outputs": [],
   "source": [
    "big_storms = rain_events[rain_events.precip > threshold]"
   ]
  },
  {
   "cell_type": "code",
   "execution_count": 12,
   "metadata": {},
   "outputs": [],
   "source": [
    "def is_el_nino(valid):\n",
    "    return any([\n",
    "        pd.Timestamp('1982-07-01') < valid < pd.Timestamp('1983-06-30'),\n",
    "        pd.Timestamp('1997-07-01') < valid < pd.Timestamp('1998-06-30'),\n",
    "        pd.Timestamp('2015-07-01') < valid < pd.Timestamp('2016-06-30'),\n",
    "    ])"
   ]
  },
  {
   "cell_type": "code",
   "execution_count": 13,
   "metadata": {},
   "outputs": [],
   "source": [
    "non_el_nino_storms = big_storms[big_storms.apply(lambda r: not is_el_nino(r.mean_time), axis=1)]\n",
    "el_nino_storms = big_storms[big_storms.apply(lambda r: is_el_nino(r.mean_time), axis=1)]"
   ]
  },
  {
   "cell_type": "code",
   "execution_count": 15,
   "metadata": {},
   "outputs": [],
   "source": [
    "# def export_file_for_ftp(ser, dest):\n",
    "#     ser.to_csv(dest, index=False, header=ser.shape)"
   ]
  },
  {
   "cell_type": "code",
   "execution_count": 14,
   "metadata": {},
   "outputs": [],
   "source": [
    "last_15_years = non_el_nino_storms[non_el_nino_storms.mean_time >= pd.Timestamp('2004-06-01')].mean_time.dt.strftime('%Y%m%d')\n",
    "first_15_years = non_el_nino_storms[non_el_nino_storms.mean_time <= pd.Timestamp('1996-06-01')].mean_time.dt.strftime('%Y%m%d')"
   ]
  },
  {
   "cell_type": "code",
   "execution_count": 22,
   "metadata": {},
   "outputs": [
    {
     "data": {
      "text/html": [
       "<div>\n",
       "<style scoped>\n",
       "    .dataframe tbody tr th:only-of-type {\n",
       "        vertical-align: middle;\n",
       "    }\n",
       "\n",
       "    .dataframe tbody tr th {\n",
       "        vertical-align: top;\n",
       "    }\n",
       "\n",
       "    .dataframe thead th {\n",
       "        text-align: right;\n",
       "    }\n",
       "</style>\n",
       "<table border=\"1\" class=\"dataframe\">\n",
       "  <thead>\n",
       "    <tr style=\"text-align: right;\">\n",
       "      <th></th>\n",
       "      <th>clust</th>\n",
       "      <th>precip</th>\n",
       "      <th>mean_time</th>\n",
       "    </tr>\n",
       "  </thead>\n",
       "  <tbody>\n",
       "    <tr>\n",
       "      <th>8</th>\n",
       "      <td>8</td>\n",
       "      <td>2.56</td>\n",
       "      <td>1981-01-27 12:16:55.384615360</td>\n",
       "    </tr>\n",
       "    <tr>\n",
       "      <th>32</th>\n",
       "      <td>32</td>\n",
       "      <td>2.12</td>\n",
       "      <td>1981-11-13 21:00:00.000000000</td>\n",
       "    </tr>\n",
       "    <tr>\n",
       "      <th>45</th>\n",
       "      <td>45</td>\n",
       "      <td>1.98</td>\n",
       "      <td>1981-12-29 17:30:00.000000000</td>\n",
       "    </tr>\n",
       "    <tr>\n",
       "      <th>47</th>\n",
       "      <td>47</td>\n",
       "      <td>6.51</td>\n",
       "      <td>1982-01-04 17:09:05.454545472</td>\n",
       "    </tr>\n",
       "    <tr>\n",
       "      <th>54</th>\n",
       "      <td>54</td>\n",
       "      <td>2.63</td>\n",
       "      <td>1982-02-15 14:11:15.000000000</td>\n",
       "    </tr>\n",
       "    <tr>\n",
       "      <th>...</th>\n",
       "      <td>...</td>\n",
       "      <td>...</td>\n",
       "      <td>...</td>\n",
       "    </tr>\n",
       "    <tr>\n",
       "      <th>1367</th>\n",
       "      <td>1367</td>\n",
       "      <td>2.29</td>\n",
       "      <td>2017-02-20 20:07:49.565217280</td>\n",
       "    </tr>\n",
       "    <tr>\n",
       "      <th>1392</th>\n",
       "      <td>1392</td>\n",
       "      <td>3.54</td>\n",
       "      <td>2018-01-08 21:30:00.000000000</td>\n",
       "    </tr>\n",
       "    <tr>\n",
       "      <th>1409</th>\n",
       "      <td>1409</td>\n",
       "      <td>1.86</td>\n",
       "      <td>2018-04-06 20:20:00.000000000</td>\n",
       "    </tr>\n",
       "    <tr>\n",
       "      <th>1426</th>\n",
       "      <td>1426</td>\n",
       "      <td>1.73</td>\n",
       "      <td>2019-01-16 07:26:40.000000000</td>\n",
       "    </tr>\n",
       "    <tr>\n",
       "      <th>1433</th>\n",
       "      <td>1433</td>\n",
       "      <td>2.64</td>\n",
       "      <td>2019-02-13 23:41:03.157894656</td>\n",
       "    </tr>\n",
       "  </tbody>\n",
       "</table>\n",
       "<p>65 rows × 3 columns</p>\n",
       "</div>"
      ],
      "text/plain": [
       "      clust  precip                     mean_time\n",
       "8         8    2.56 1981-01-27 12:16:55.384615360\n",
       "32       32    2.12 1981-11-13 21:00:00.000000000\n",
       "45       45    1.98 1981-12-29 17:30:00.000000000\n",
       "47       47    6.51 1982-01-04 17:09:05.454545472\n",
       "54       54    2.63 1982-02-15 14:11:15.000000000\n",
       "...     ...     ...                           ...\n",
       "1367   1367    2.29 2017-02-20 20:07:49.565217280\n",
       "1392   1392    3.54 2018-01-08 21:30:00.000000000\n",
       "1409   1409    1.86 2018-04-06 20:20:00.000000000\n",
       "1426   1426    1.73 2019-01-16 07:26:40.000000000\n",
       "1433   1433    2.64 2019-02-13 23:41:03.157894656\n",
       "\n",
       "[65 rows x 3 columns]"
      ]
     },
     "execution_count": 22,
     "metadata": {},
     "output_type": "execute_result"
    }
   ],
   "source": [
    "non_el_nino_storms"
   ]
  },
  {
   "cell_type": "code",
   "execution_count": 23,
   "metadata": {},
   "outputs": [
    {
     "data": {
      "text/html": [
       "<div>\n",
       "<style scoped>\n",
       "    .dataframe tbody tr th:only-of-type {\n",
       "        vertical-align: middle;\n",
       "    }\n",
       "\n",
       "    .dataframe tbody tr th {\n",
       "        vertical-align: top;\n",
       "    }\n",
       "\n",
       "    .dataframe thead th {\n",
       "        text-align: right;\n",
       "    }\n",
       "</style>\n",
       "<table border=\"1\" class=\"dataframe\">\n",
       "  <thead>\n",
       "    <tr style=\"text-align: right;\">\n",
       "      <th></th>\n",
       "      <th>clust</th>\n",
       "      <th>precip</th>\n",
       "      <th>mean_time</th>\n",
       "    </tr>\n",
       "  </thead>\n",
       "  <tbody>\n",
       "    <tr>\n",
       "      <th>81</th>\n",
       "      <td>81</td>\n",
       "      <td>2.46</td>\n",
       "      <td>1982-11-18 07:04:26.666666688</td>\n",
       "    </tr>\n",
       "    <tr>\n",
       "      <th>87</th>\n",
       "      <td>87</td>\n",
       "      <td>2.05</td>\n",
       "      <td>1982-12-21 09:51:43.448275840</td>\n",
       "    </tr>\n",
       "    <tr>\n",
       "      <th>92</th>\n",
       "      <td>92</td>\n",
       "      <td>1.87</td>\n",
       "      <td>1983-01-24 07:21:25.714285696</td>\n",
       "    </tr>\n",
       "    <tr>\n",
       "      <th>93</th>\n",
       "      <td>93</td>\n",
       "      <td>1.86</td>\n",
       "      <td>1983-01-27 05:20:00.000000000</td>\n",
       "    </tr>\n",
       "    <tr>\n",
       "      <th>639</th>\n",
       "      <td>639</td>\n",
       "      <td>2.63</td>\n",
       "      <td>1997-11-26 14:24:32.727272704</td>\n",
       "    </tr>\n",
       "    <tr>\n",
       "      <th>643</th>\n",
       "      <td>643</td>\n",
       "      <td>2.22</td>\n",
       "      <td>1997-12-07 21:08:53.333333376</td>\n",
       "    </tr>\n",
       "    <tr>\n",
       "      <th>650</th>\n",
       "      <td>650</td>\n",
       "      <td>1.75</td>\n",
       "      <td>1998-01-12 08:25:42.857142912</td>\n",
       "    </tr>\n",
       "    <tr>\n",
       "      <th>658</th>\n",
       "      <td>658</td>\n",
       "      <td>3.82</td>\n",
       "      <td>1998-02-03 03:46:00.000000000</td>\n",
       "    </tr>\n",
       "  </tbody>\n",
       "</table>\n",
       "</div>"
      ],
      "text/plain": [
       "     clust  precip                     mean_time\n",
       "81      81    2.46 1982-11-18 07:04:26.666666688\n",
       "87      87    2.05 1982-12-21 09:51:43.448275840\n",
       "92      92    1.87 1983-01-24 07:21:25.714285696\n",
       "93      93    1.86 1983-01-27 05:20:00.000000000\n",
       "639    639    2.63 1997-11-26 14:24:32.727272704\n",
       "643    643    2.22 1997-12-07 21:08:53.333333376\n",
       "650    650    1.75 1998-01-12 08:25:42.857142912\n",
       "658    658    3.82 1998-02-03 03:46:00.000000000"
      ]
     },
     "execution_count": 23,
     "metadata": {},
     "output_type": "execute_result"
    }
   ],
   "source": [
    "el_nino_storms"
   ]
  }
 ],
 "metadata": {
  "kernelspec": {
   "display_name": "storm_analysis_env",
   "language": "python",
   "name": "storm_analysis_env"
  },
  "language_info": {
   "codemirror_mode": {
    "name": "ipython",
    "version": 3
   },
   "file_extension": ".py",
   "mimetype": "text/x-python",
   "name": "python",
   "nbconvert_exporter": "python",
   "pygments_lexer": "ipython3",
   "version": "3.7.2"
  }
 },
 "nbformat": 4,
 "nbformat_minor": 4
}
