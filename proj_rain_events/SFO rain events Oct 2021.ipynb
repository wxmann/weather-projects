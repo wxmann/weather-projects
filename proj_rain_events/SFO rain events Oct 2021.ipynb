{
 "cells": [
  {
   "cell_type": "code",
   "execution_count": 364,
   "metadata": {
    "collapsed": false
   },
   "outputs": [
    {
     "name": "stdout",
     "output_type": "stream",
     "text": [
      "The autoreload extension is already loaded. To reload it, use:\n",
      "  %reload_ext autoreload\n"
     ]
    }
   ],
   "source": [
    "# %load_ext autoreload\n",
    "# %autoreload 2\n",
    "\n",
    "import sys\n",
    "sys.path.append('..')\n",
    "\n",
    "from events_calc import precip_events\n",
    "from lib.obs import hourly_precip\n",
    "from lib.enso import oni_trimonthly\n",
    "\n",
    "import numpy as np\n",
    "import pandas as pd\n",
    "import matplotlib.pyplot as plt\n",
    "\n",
    "%matplotlib inline\n",
    "\n",
    "# suppress warnings\n",
    "pd.options.mode.chained_assignment = None"
   ]
  },
  {
   "cell_type": "markdown",
   "metadata": {},
   "source": [
    "# Load hourly precip data for SFO"
   ]
  },
  {
   "cell_type": "code",
   "execution_count": 259,
   "metadata": {
    "collapsed": false
   },
   "outputs": [],
   "source": [
    "sfo_precip = hourly_precip('SFO', '1950-07-01', '2021-06-30')"
   ]
  },
  {
   "cell_type": "code",
   "execution_count": 205,
   "metadata": {
    "collapsed": false
   },
   "outputs": [
    {
     "data": {
      "text/html": [
       "<div>\n",
       "<style scoped>\n",
       "    .dataframe tbody tr th:only-of-type {\n",
       "        vertical-align: middle;\n",
       "    }\n",
       "\n",
       "    .dataframe tbody tr th {\n",
       "        vertical-align: top;\n",
       "    }\n",
       "\n",
       "    .dataframe thead th {\n",
       "        text-align: right;\n",
       "    }\n",
       "</style>\n",
       "<table border=\"1\" class=\"dataframe\">\n",
       "  <thead>\n",
       "    <tr style=\"text-align: right;\">\n",
       "      <th></th>\n",
       "      <th>station</th>\n",
       "      <th>network</th>\n",
       "      <th>valid</th>\n",
       "      <th>precip_in</th>\n",
       "    </tr>\n",
       "  </thead>\n",
       "  <tbody>\n",
       "    <tr>\n",
       "      <th>0</th>\n",
       "      <td>SFO</td>\n",
       "      <td>CA_ASOS</td>\n",
       "      <td>1950-09-17 19:00:00</td>\n",
       "      <td>0.09</td>\n",
       "    </tr>\n",
       "    <tr>\n",
       "      <th>1</th>\n",
       "      <td>SFO</td>\n",
       "      <td>CA_ASOS</td>\n",
       "      <td>1950-09-17 20:00:00</td>\n",
       "      <td>0.02</td>\n",
       "    </tr>\n",
       "    <tr>\n",
       "      <th>2</th>\n",
       "      <td>SFO</td>\n",
       "      <td>CA_ASOS</td>\n",
       "      <td>1950-10-17 05:00:00</td>\n",
       "      <td>0.03</td>\n",
       "    </tr>\n",
       "    <tr>\n",
       "      <th>3</th>\n",
       "      <td>SFO</td>\n",
       "      <td>CA_ASOS</td>\n",
       "      <td>1950-10-17 15:00:00</td>\n",
       "      <td>0.01</td>\n",
       "    </tr>\n",
       "    <tr>\n",
       "      <th>4</th>\n",
       "      <td>SFO</td>\n",
       "      <td>CA_ASOS</td>\n",
       "      <td>1950-10-23 17:00:00</td>\n",
       "      <td>0.01</td>\n",
       "    </tr>\n",
       "  </tbody>\n",
       "</table>\n",
       "</div>"
      ],
      "text/plain": [
       "  station  network               valid  precip_in\n",
       "0     SFO  CA_ASOS 1950-09-17 19:00:00       0.09\n",
       "1     SFO  CA_ASOS 1950-09-17 20:00:00       0.02\n",
       "2     SFO  CA_ASOS 1950-10-17 05:00:00       0.03\n",
       "3     SFO  CA_ASOS 1950-10-17 15:00:00       0.01\n",
       "4     SFO  CA_ASOS 1950-10-23 17:00:00       0.01"
      ]
     },
     "execution_count": 205,
     "metadata": {},
     "output_type": "execute_result"
    }
   ],
   "source": [
    "sfo_precip.head()"
   ]
  },
  {
   "cell_type": "code",
   "execution_count": 431,
   "metadata": {
    "collapsed": false
   },
   "outputs": [],
   "source": [
    "eps = 12\n",
    "min_samples = 10\n",
    "rain_event_labels = precip_events(sfo_precip, eps, min_samples, chunks=50)"
   ]
  },
  {
   "cell_type": "code",
   "execution_count": 432,
   "metadata": {
    "collapsed": false
   },
   "outputs": [],
   "source": [
    "sfo_precip_temp = sfo_precip.copy()\n",
    "sfo_precip_temp['clust'] = rain_event_labels\n",
    "sfo_precip_temp = sfo_precip_temp[sfo_precip_temp.clust >= 0]"
   ]
  },
  {
   "cell_type": "code",
   "execution_count": 433,
   "metadata": {
    "collapsed": false
   },
   "outputs": [
    {
     "data": {
      "text/html": [
       "<div>\n",
       "<style scoped>\n",
       "    .dataframe tbody tr th:only-of-type {\n",
       "        vertical-align: middle;\n",
       "    }\n",
       "\n",
       "    .dataframe tbody tr th {\n",
       "        vertical-align: top;\n",
       "    }\n",
       "\n",
       "    .dataframe thead th {\n",
       "        text-align: right;\n",
       "    }\n",
       "</style>\n",
       "<table border=\"1\" class=\"dataframe\">\n",
       "  <thead>\n",
       "    <tr style=\"text-align: right;\">\n",
       "      <th></th>\n",
       "      <th>station</th>\n",
       "      <th>network</th>\n",
       "      <th>valid</th>\n",
       "      <th>precip_in</th>\n",
       "      <th>clust</th>\n",
       "    </tr>\n",
       "  </thead>\n",
       "  <tbody>\n",
       "    <tr>\n",
       "      <th>24581</th>\n",
       "      <td>SFO</td>\n",
       "      <td>CA_ASOS</td>\n",
       "      <td>2021-03-18 21:00:00</td>\n",
       "      <td>0.05</td>\n",
       "      <td>1827</td>\n",
       "    </tr>\n",
       "    <tr>\n",
       "      <th>24582</th>\n",
       "      <td>SFO</td>\n",
       "      <td>CA_ASOS</td>\n",
       "      <td>2021-03-18 22:00:00</td>\n",
       "      <td>0.01</td>\n",
       "      <td>1827</td>\n",
       "    </tr>\n",
       "    <tr>\n",
       "      <th>24583</th>\n",
       "      <td>SFO</td>\n",
       "      <td>CA_ASOS</td>\n",
       "      <td>2021-03-18 23:00:00</td>\n",
       "      <td>0.01</td>\n",
       "      <td>1827</td>\n",
       "    </tr>\n",
       "    <tr>\n",
       "      <th>24584</th>\n",
       "      <td>SFO</td>\n",
       "      <td>CA_ASOS</td>\n",
       "      <td>2021-03-19 00:00:00</td>\n",
       "      <td>0.02</td>\n",
       "      <td>1827</td>\n",
       "    </tr>\n",
       "    <tr>\n",
       "      <th>24587</th>\n",
       "      <td>SFO</td>\n",
       "      <td>CA_ASOS</td>\n",
       "      <td>2021-06-15 20:00:00</td>\n",
       "      <td>0.57</td>\n",
       "      <td>1828</td>\n",
       "    </tr>\n",
       "  </tbody>\n",
       "</table>\n",
       "</div>"
      ],
      "text/plain": [
       "      station  network               valid  precip_in  clust\n",
       "24581     SFO  CA_ASOS 2021-03-18 21:00:00       0.05   1827\n",
       "24582     SFO  CA_ASOS 2021-03-18 22:00:00       0.01   1827\n",
       "24583     SFO  CA_ASOS 2021-03-18 23:00:00       0.01   1827\n",
       "24584     SFO  CA_ASOS 2021-03-19 00:00:00       0.02   1827\n",
       "24587     SFO  CA_ASOS 2021-06-15 20:00:00       0.57   1828"
      ]
     },
     "execution_count": 433,
     "metadata": {},
     "output_type": "execute_result"
    }
   ],
   "source": [
    "sfo_precip_temp.tail()"
   ]
  },
  {
   "cell_type": "code",
   "execution_count": 434,
   "metadata": {
    "collapsed": true
   },
   "outputs": [],
   "source": [
    "def calc_past_24_all(df):\n",
    "    def calc_past_24_row(t):\n",
    "        t_minus24 = t - pd.Timedelta(24, 'h')\n",
    "        df_subset = df[(df.valid > t_minus24) & (df.valid <= t)]\n",
    "        if len(df_subset) == 0:\n",
    "            return 0\n",
    "        return df_subset.precip_in.sum()\n",
    "    return df.apply(lambda row: calc_past_24_row(row.valid), axis=1)"
   ]
  },
  {
   "cell_type": "code",
   "execution_count": 435,
   "metadata": {
    "collapsed": false
   },
   "outputs": [],
   "source": [
    "precip_24hr_clust = sfo_precip_temp.groupby('clust', as_index=False).apply(calc_past_24_all)"
   ]
  },
  {
   "cell_type": "code",
   "execution_count": 436,
   "metadata": {
    "collapsed": false
   },
   "outputs": [],
   "source": [
    "precip_24hr_clust_id = precip_24hr_clust.reset_index(name='precip_24_hr')['precip_24_hr']\n",
    "precip_24hr_clust_id.index = sfo_precip_temp.index\n",
    "sfo_precip_temp['precip_in_24hr']= precip_24hr_clust_id"
   ]
  },
  {
   "cell_type": "code",
   "execution_count": 437,
   "metadata": {
    "collapsed": false
   },
   "outputs": [
    {
     "data": {
      "text/html": [
       "<div>\n",
       "<style scoped>\n",
       "    .dataframe tbody tr th:only-of-type {\n",
       "        vertical-align: middle;\n",
       "    }\n",
       "\n",
       "    .dataframe tbody tr th {\n",
       "        vertical-align: top;\n",
       "    }\n",
       "\n",
       "    .dataframe thead th {\n",
       "        text-align: right;\n",
       "    }\n",
       "</style>\n",
       "<table border=\"1\" class=\"dataframe\">\n",
       "  <thead>\n",
       "    <tr style=\"text-align: right;\">\n",
       "      <th></th>\n",
       "      <th>station</th>\n",
       "      <th>network</th>\n",
       "      <th>valid</th>\n",
       "      <th>precip_in</th>\n",
       "      <th>clust</th>\n",
       "      <th>precip_in_24hr</th>\n",
       "    </tr>\n",
       "  </thead>\n",
       "  <tbody>\n",
       "    <tr>\n",
       "      <th>24581</th>\n",
       "      <td>SFO</td>\n",
       "      <td>CA_ASOS</td>\n",
       "      <td>2021-03-18 21:00:00</td>\n",
       "      <td>0.05</td>\n",
       "      <td>1827</td>\n",
       "      <td>0.12</td>\n",
       "    </tr>\n",
       "    <tr>\n",
       "      <th>24582</th>\n",
       "      <td>SFO</td>\n",
       "      <td>CA_ASOS</td>\n",
       "      <td>2021-03-18 22:00:00</td>\n",
       "      <td>0.01</td>\n",
       "      <td>1827</td>\n",
       "      <td>0.13</td>\n",
       "    </tr>\n",
       "    <tr>\n",
       "      <th>24583</th>\n",
       "      <td>SFO</td>\n",
       "      <td>CA_ASOS</td>\n",
       "      <td>2021-03-18 23:00:00</td>\n",
       "      <td>0.01</td>\n",
       "      <td>1827</td>\n",
       "      <td>0.14</td>\n",
       "    </tr>\n",
       "    <tr>\n",
       "      <th>24584</th>\n",
       "      <td>SFO</td>\n",
       "      <td>CA_ASOS</td>\n",
       "      <td>2021-03-19 00:00:00</td>\n",
       "      <td>0.02</td>\n",
       "      <td>1827</td>\n",
       "      <td>0.16</td>\n",
       "    </tr>\n",
       "    <tr>\n",
       "      <th>24587</th>\n",
       "      <td>SFO</td>\n",
       "      <td>CA_ASOS</td>\n",
       "      <td>2021-06-15 20:00:00</td>\n",
       "      <td>0.57</td>\n",
       "      <td>1828</td>\n",
       "      <td>0.57</td>\n",
       "    </tr>\n",
       "  </tbody>\n",
       "</table>\n",
       "</div>"
      ],
      "text/plain": [
       "      station  network               valid  precip_in  clust  precip_in_24hr\n",
       "24581     SFO  CA_ASOS 2021-03-18 21:00:00       0.05   1827            0.12\n",
       "24582     SFO  CA_ASOS 2021-03-18 22:00:00       0.01   1827            0.13\n",
       "24583     SFO  CA_ASOS 2021-03-18 23:00:00       0.01   1827            0.14\n",
       "24584     SFO  CA_ASOS 2021-03-19 00:00:00       0.02   1827            0.16\n",
       "24587     SFO  CA_ASOS 2021-06-15 20:00:00       0.57   1828            0.57"
      ]
     },
     "execution_count": 437,
     "metadata": {},
     "output_type": "execute_result"
    }
   ],
   "source": [
    "sfo_precip_temp.tail()"
   ]
  },
  {
   "cell_type": "code",
   "execution_count": 438,
   "metadata": {
    "collapsed": false
   },
   "outputs": [],
   "source": [
    "sfo_rain_events = sfo_precip_temp.groupby('clust', as_index=False).agg({\n",
    "    'precip_in': sum,\n",
    "    'valid': [lambda r: pd.Timestamp(np.nanmean([tsp.value for tsp in r])), min, max],\n",
    "    'precip_in_24hr': max\n",
    "})\n",
    "sfo_rain_events.columns.droplevel(level=0)\n",
    "sfo_rain_events.columns = ['clust', 'precip', 'mean_time', 'min_time', 'max_time', 'max_precip_24hr']"
   ]
  },
  {
   "cell_type": "code",
   "execution_count": 439,
   "metadata": {
    "collapsed": false
   },
   "outputs": [],
   "source": [
    "def get_max_precip_hr(precip, clust):\n",
    "    row = sfo_precip_temp[(sfo_precip_temp.precip_in_24hr == precip) & (sfo_precip_temp.clust == clust)]\n",
    "    return row.valid.values[0]\n",
    "    \n",
    "sfo_rain_events['max_precip_hr'] = sfo_rain_events.apply(lambda r: get_max_precip_hr(r.max_precip_24hr, r.clust), axis=1)"
   ]
  },
  {
   "cell_type": "code",
   "execution_count": 440,
   "metadata": {
    "collapsed": false
   },
   "outputs": [
    {
     "data": {
      "text/html": [
       "<div>\n",
       "<style scoped>\n",
       "    .dataframe tbody tr th:only-of-type {\n",
       "        vertical-align: middle;\n",
       "    }\n",
       "\n",
       "    .dataframe tbody tr th {\n",
       "        vertical-align: top;\n",
       "    }\n",
       "\n",
       "    .dataframe thead th {\n",
       "        text-align: right;\n",
       "    }\n",
       "</style>\n",
       "<table border=\"1\" class=\"dataframe\">\n",
       "  <thead>\n",
       "    <tr style=\"text-align: right;\">\n",
       "      <th></th>\n",
       "      <th>clust</th>\n",
       "      <th>precip</th>\n",
       "      <th>mean_time</th>\n",
       "      <th>min_time</th>\n",
       "      <th>max_time</th>\n",
       "      <th>max_precip_24hr</th>\n",
       "      <th>max_precip_hr</th>\n",
       "    </tr>\n",
       "  </thead>\n",
       "  <tbody>\n",
       "    <tr>\n",
       "      <th>775</th>\n",
       "      <td>775</td>\n",
       "      <td>6.51</td>\n",
       "      <td>1982-01-04 17:09:05.454545472</td>\n",
       "      <td>1982-01-04 01:00:00</td>\n",
       "      <td>1982-01-05 14:00:00</td>\n",
       "      <td>5.71</td>\n",
       "      <td>1982-01-05 08:00:00</td>\n",
       "    </tr>\n",
       "    <tr>\n",
       "      <th>414</th>\n",
       "      <td>414</td>\n",
       "      <td>5.98</td>\n",
       "      <td>1967-01-21 08:30:00.000000000</td>\n",
       "      <td>1967-01-20 12:00:00</td>\n",
       "      <td>1967-01-22 05:00:00</td>\n",
       "      <td>4.58</td>\n",
       "      <td>1967-01-22 03:00:00</td>\n",
       "    </tr>\n",
       "    <tr>\n",
       "      <th>316</th>\n",
       "      <td>316</td>\n",
       "      <td>6.94</td>\n",
       "      <td>1962-10-13 02:23:15.918367360</td>\n",
       "      <td>1962-10-11 14:00:00</td>\n",
       "      <td>1962-10-14 05:00:00</td>\n",
       "      <td>3.74</td>\n",
       "      <td>1962-10-14 00:00:00</td>\n",
       "    </tr>\n",
       "    <tr>\n",
       "      <th>1680</th>\n",
       "      <td>1680</td>\n",
       "      <td>3.81</td>\n",
       "      <td>2014-12-12 03:45:00.000000000</td>\n",
       "      <td>2014-12-11 13:00:00</td>\n",
       "      <td>2014-12-13 07:00:00</td>\n",
       "      <td>3.54</td>\n",
       "      <td>2014-12-12 10:00:00</td>\n",
       "    </tr>\n",
       "    <tr>\n",
       "      <th>1754</th>\n",
       "      <td>1754</td>\n",
       "      <td>3.54</td>\n",
       "      <td>2018-01-08 21:30:00.000000000</td>\n",
       "      <td>2018-01-08 08:00:00</td>\n",
       "      <td>2018-01-09 11:00:00</td>\n",
       "      <td>3.44</td>\n",
       "      <td>2018-01-09 10:00:00</td>\n",
       "    </tr>\n",
       "    <tr>\n",
       "      <th>1222</th>\n",
       "      <td>1222</td>\n",
       "      <td>8.16</td>\n",
       "      <td>1998-02-05 00:11:24.000000128</td>\n",
       "      <td>1998-02-01 13:00:00</td>\n",
       "      <td>1998-02-08 23:00:00</td>\n",
       "      <td>3.41</td>\n",
       "      <td>1998-02-03 12:00:00</td>\n",
       "    </tr>\n",
       "    <tr>\n",
       "      <th>137</th>\n",
       "      <td>137</td>\n",
       "      <td>5.56</td>\n",
       "      <td>1955-12-23 00:30:31.578947392</td>\n",
       "      <td>1955-12-21 15:00:00</td>\n",
       "      <td>1955-12-24 09:00:00</td>\n",
       "      <td>3.33</td>\n",
       "      <td>1955-12-23 22:00:00</td>\n",
       "    </tr>\n",
       "    <tr>\n",
       "      <th>1144</th>\n",
       "      <td>1144</td>\n",
       "      <td>4.22</td>\n",
       "      <td>1995-12-12 00:45:00.000000000</td>\n",
       "      <td>1995-12-11 00:00:00</td>\n",
       "      <td>1995-12-12 19:00:00</td>\n",
       "      <td>3.18</td>\n",
       "      <td>1995-12-12 08:00:00</td>\n",
       "    </tr>\n",
       "    <tr>\n",
       "      <th>1064</th>\n",
       "      <td>1064</td>\n",
       "      <td>3.71</td>\n",
       "      <td>1993-01-13 13:05:08.571428608</td>\n",
       "      <td>1993-01-12 18:00:00</td>\n",
       "      <td>1993-01-14 19:00:00</td>\n",
       "      <td>3.00</td>\n",
       "      <td>1993-01-13 22:00:00</td>\n",
       "    </tr>\n",
       "    <tr>\n",
       "      <th>1339</th>\n",
       "      <td>1339</td>\n",
       "      <td>3.32</td>\n",
       "      <td>2001-12-02 08:50:16.216216192</td>\n",
       "      <td>2001-12-01 06:00:00</td>\n",
       "      <td>2001-12-03 22:00:00</td>\n",
       "      <td>2.89</td>\n",
       "      <td>2001-12-02 15:00:00</td>\n",
       "    </tr>\n",
       "  </tbody>\n",
       "</table>\n",
       "</div>"
      ],
      "text/plain": [
       "      clust  precip                     mean_time            min_time  \\\n",
       "775     775    6.51 1982-01-04 17:09:05.454545472 1982-01-04 01:00:00   \n",
       "414     414    5.98 1967-01-21 08:30:00.000000000 1967-01-20 12:00:00   \n",
       "316     316    6.94 1962-10-13 02:23:15.918367360 1962-10-11 14:00:00   \n",
       "1680   1680    3.81 2014-12-12 03:45:00.000000000 2014-12-11 13:00:00   \n",
       "1754   1754    3.54 2018-01-08 21:30:00.000000000 2018-01-08 08:00:00   \n",
       "1222   1222    8.16 1998-02-05 00:11:24.000000128 1998-02-01 13:00:00   \n",
       "137     137    5.56 1955-12-23 00:30:31.578947392 1955-12-21 15:00:00   \n",
       "1144   1144    4.22 1995-12-12 00:45:00.000000000 1995-12-11 00:00:00   \n",
       "1064   1064    3.71 1993-01-13 13:05:08.571428608 1993-01-12 18:00:00   \n",
       "1339   1339    3.32 2001-12-02 08:50:16.216216192 2001-12-01 06:00:00   \n",
       "\n",
       "                max_time  max_precip_24hr       max_precip_hr  \n",
       "775  1982-01-05 14:00:00             5.71 1982-01-05 08:00:00  \n",
       "414  1967-01-22 05:00:00             4.58 1967-01-22 03:00:00  \n",
       "316  1962-10-14 05:00:00             3.74 1962-10-14 00:00:00  \n",
       "1680 2014-12-13 07:00:00             3.54 2014-12-12 10:00:00  \n",
       "1754 2018-01-09 11:00:00             3.44 2018-01-09 10:00:00  \n",
       "1222 1998-02-08 23:00:00             3.41 1998-02-03 12:00:00  \n",
       "137  1955-12-24 09:00:00             3.33 1955-12-23 22:00:00  \n",
       "1144 1995-12-12 19:00:00             3.18 1995-12-12 08:00:00  \n",
       "1064 1993-01-14 19:00:00             3.00 1993-01-13 22:00:00  \n",
       "1339 2001-12-03 22:00:00             2.89 2001-12-02 15:00:00  "
      ]
     },
     "execution_count": 440,
     "metadata": {},
     "output_type": "execute_result"
    }
   ],
   "source": [
    "sfo_rain_events.sort_values(by='max_precip_24hr', ascending=False).head(10)"
   ]
  },
  {
   "cell_type": "code",
   "execution_count": 441,
   "metadata": {
    "collapsed": false
   },
   "outputs": [
    {
     "data": {
      "text/html": [
       "<div>\n",
       "<style scoped>\n",
       "    .dataframe tbody tr th:only-of-type {\n",
       "        vertical-align: middle;\n",
       "    }\n",
       "\n",
       "    .dataframe tbody tr th {\n",
       "        vertical-align: top;\n",
       "    }\n",
       "\n",
       "    .dataframe thead th {\n",
       "        text-align: right;\n",
       "    }\n",
       "</style>\n",
       "<table border=\"1\" class=\"dataframe\">\n",
       "  <thead>\n",
       "    <tr style=\"text-align: right;\">\n",
       "      <th></th>\n",
       "      <th>clust</th>\n",
       "      <th>precip</th>\n",
       "      <th>mean_time</th>\n",
       "      <th>min_time</th>\n",
       "      <th>max_time</th>\n",
       "      <th>max_precip_24hr</th>\n",
       "      <th>max_precip_hr</th>\n",
       "    </tr>\n",
       "  </thead>\n",
       "  <tbody>\n",
       "    <tr>\n",
       "      <th>1222</th>\n",
       "      <td>1222</td>\n",
       "      <td>8.16</td>\n",
       "      <td>1998-02-05 00:11:24.000000128</td>\n",
       "      <td>1998-02-01 13:00:00</td>\n",
       "      <td>1998-02-08 23:00:00</td>\n",
       "      <td>3.41</td>\n",
       "      <td>1998-02-03 12:00:00</td>\n",
       "    </tr>\n",
       "    <tr>\n",
       "      <th>316</th>\n",
       "      <td>316</td>\n",
       "      <td>6.94</td>\n",
       "      <td>1962-10-13 02:23:15.918367360</td>\n",
       "      <td>1962-10-11 14:00:00</td>\n",
       "      <td>1962-10-14 05:00:00</td>\n",
       "      <td>3.74</td>\n",
       "      <td>1962-10-14 00:00:00</td>\n",
       "    </tr>\n",
       "    <tr>\n",
       "      <th>908</th>\n",
       "      <td>908</td>\n",
       "      <td>6.65</td>\n",
       "      <td>1986-02-16 23:49:40.645161280</td>\n",
       "      <td>1986-02-14 01:00:00</td>\n",
       "      <td>1986-02-20 18:00:00</td>\n",
       "      <td>1.84</td>\n",
       "      <td>1986-02-17 20:00:00</td>\n",
       "    </tr>\n",
       "    <tr>\n",
       "      <th>775</th>\n",
       "      <td>775</td>\n",
       "      <td>6.51</td>\n",
       "      <td>1982-01-04 17:09:05.454545472</td>\n",
       "      <td>1982-01-04 01:00:00</td>\n",
       "      <td>1982-01-05 14:00:00</td>\n",
       "      <td>5.71</td>\n",
       "      <td>1982-01-05 08:00:00</td>\n",
       "    </tr>\n",
       "    <tr>\n",
       "      <th>414</th>\n",
       "      <td>414</td>\n",
       "      <td>5.98</td>\n",
       "      <td>1967-01-21 08:30:00.000000000</td>\n",
       "      <td>1967-01-20 12:00:00</td>\n",
       "      <td>1967-01-22 05:00:00</td>\n",
       "      <td>4.58</td>\n",
       "      <td>1967-01-22 03:00:00</td>\n",
       "    </tr>\n",
       "    <tr>\n",
       "      <th>137</th>\n",
       "      <td>137</td>\n",
       "      <td>5.56</td>\n",
       "      <td>1955-12-23 00:30:31.578947392</td>\n",
       "      <td>1955-12-21 15:00:00</td>\n",
       "      <td>1955-12-24 09:00:00</td>\n",
       "      <td>3.33</td>\n",
       "      <td>1955-12-23 22:00:00</td>\n",
       "    </tr>\n",
       "    <tr>\n",
       "      <th>1564</th>\n",
       "      <td>1564</td>\n",
       "      <td>4.99</td>\n",
       "      <td>2010-01-20 19:24:10.000000000</td>\n",
       "      <td>2010-01-17 15:00:00</td>\n",
       "      <td>2010-01-23 20:00:00</td>\n",
       "      <td>1.85</td>\n",
       "      <td>2010-01-19 16:00:00</td>\n",
       "    </tr>\n",
       "    <tr>\n",
       "      <th>224</th>\n",
       "      <td>224</td>\n",
       "      <td>4.69</td>\n",
       "      <td>1958-04-03 02:35:10.344827584</td>\n",
       "      <td>1958-04-01 07:00:00</td>\n",
       "      <td>1958-04-04 21:00:00</td>\n",
       "      <td>2.66</td>\n",
       "      <td>1958-04-03 12:00:00</td>\n",
       "    </tr>\n",
       "    <tr>\n",
       "      <th>786</th>\n",
       "      <td>786</td>\n",
       "      <td>4.39</td>\n",
       "      <td>1982-03-30 17:10:31.578947392</td>\n",
       "      <td>1982-03-28 09:00:00</td>\n",
       "      <td>1982-04-01 20:00:00</td>\n",
       "      <td>2.46</td>\n",
       "      <td>1982-03-31 20:00:00</td>\n",
       "    </tr>\n",
       "    <tr>\n",
       "      <th>1144</th>\n",
       "      <td>1144</td>\n",
       "      <td>4.22</td>\n",
       "      <td>1995-12-12 00:45:00.000000000</td>\n",
       "      <td>1995-12-11 00:00:00</td>\n",
       "      <td>1995-12-12 19:00:00</td>\n",
       "      <td>3.18</td>\n",
       "      <td>1995-12-12 08:00:00</td>\n",
       "    </tr>\n",
       "  </tbody>\n",
       "</table>\n",
       "</div>"
      ],
      "text/plain": [
       "      clust  precip                     mean_time            min_time  \\\n",
       "1222   1222    8.16 1998-02-05 00:11:24.000000128 1998-02-01 13:00:00   \n",
       "316     316    6.94 1962-10-13 02:23:15.918367360 1962-10-11 14:00:00   \n",
       "908     908    6.65 1986-02-16 23:49:40.645161280 1986-02-14 01:00:00   \n",
       "775     775    6.51 1982-01-04 17:09:05.454545472 1982-01-04 01:00:00   \n",
       "414     414    5.98 1967-01-21 08:30:00.000000000 1967-01-20 12:00:00   \n",
       "137     137    5.56 1955-12-23 00:30:31.578947392 1955-12-21 15:00:00   \n",
       "1564   1564    4.99 2010-01-20 19:24:10.000000000 2010-01-17 15:00:00   \n",
       "224     224    4.69 1958-04-03 02:35:10.344827584 1958-04-01 07:00:00   \n",
       "786     786    4.39 1982-03-30 17:10:31.578947392 1982-03-28 09:00:00   \n",
       "1144   1144    4.22 1995-12-12 00:45:00.000000000 1995-12-11 00:00:00   \n",
       "\n",
       "                max_time  max_precip_24hr       max_precip_hr  \n",
       "1222 1998-02-08 23:00:00             3.41 1998-02-03 12:00:00  \n",
       "316  1962-10-14 05:00:00             3.74 1962-10-14 00:00:00  \n",
       "908  1986-02-20 18:00:00             1.84 1986-02-17 20:00:00  \n",
       "775  1982-01-05 14:00:00             5.71 1982-01-05 08:00:00  \n",
       "414  1967-01-22 05:00:00             4.58 1967-01-22 03:00:00  \n",
       "137  1955-12-24 09:00:00             3.33 1955-12-23 22:00:00  \n",
       "1564 2010-01-23 20:00:00             1.85 2010-01-19 16:00:00  \n",
       "224  1958-04-04 21:00:00             2.66 1958-04-03 12:00:00  \n",
       "786  1982-04-01 20:00:00             2.46 1982-03-31 20:00:00  \n",
       "1144 1995-12-12 19:00:00             3.18 1995-12-12 08:00:00  "
      ]
     },
     "execution_count": 441,
     "metadata": {},
     "output_type": "execute_result"
    }
   ],
   "source": [
    "sfo_rain_events.sort_values(by='precip', ascending=False).head(10)"
   ]
  },
  {
   "cell_type": "markdown",
   "metadata": {},
   "source": [
    "# Look at rainfall distribution of rain events"
   ]
  },
  {
   "cell_type": "code",
   "execution_count": 442,
   "metadata": {
    "collapsed": false
   },
   "outputs": [
    {
     "data": {
      "text/plain": [
       "count    1829.000000\n",
       "mean        0.601471\n",
       "std         0.554392\n",
       "min         0.100000\n",
       "25%         0.210000\n",
       "50%         0.410000\n",
       "75%         0.800000\n",
       "max         5.710000\n",
       "Name: max_precip_24hr, dtype: float64"
      ]
     },
     "execution_count": 442,
     "metadata": {},
     "output_type": "execute_result"
    }
   ],
   "source": [
    "sfo_rain_events.max_precip_24hr.describe()"
   ]
  },
  {
   "cell_type": "code",
   "execution_count": 443,
   "metadata": {
    "collapsed": false
   },
   "outputs": [
    {
     "data": {
      "text/plain": [
       "count    1829.000000\n",
       "mean        0.698753\n",
       "std         0.769774\n",
       "min         0.100000\n",
       "25%         0.210000\n",
       "50%         0.430000\n",
       "75%         0.880000\n",
       "max         8.160000\n",
       "Name: precip, dtype: float64"
      ]
     },
     "execution_count": 443,
     "metadata": {},
     "output_type": "execute_result"
    }
   ],
   "source": [
    "sfo_rain_events.precip.describe()"
   ]
  },
  {
   "cell_type": "code",
   "execution_count": 444,
   "metadata": {
    "collapsed": false
   },
   "outputs": [
    {
     "data": {
      "text/plain": [
       "Text(0, 0.5, 'Count')"
      ]
     },
     "execution_count": 444,
     "metadata": {},
     "output_type": "execute_result"
    },
    {
     "data": {
      "image/png": "[encoded data removed]",
      "text/plain": [
       "<Figure size 864x864 with 1 Axes>"
      ]
     },
     "metadata": {
      "needs_background": "light"
     },
     "output_type": "display_data"
    }
   ],
   "source": [
    "plt.figure(figsize=(12, 12))\n",
    "plt.hist(sfo_rain_events.max_precip_24hr, bins=50, log=True)\n",
    "plt.title('Rain events in SFO, 1950-2021')\n",
    "plt.xlabel('Rainfall total (in)')\n",
    "plt.ylabel('Count')"
   ]
  },
  {
   "cell_type": "markdown",
   "metadata": {},
   "source": [
    "# Visualized Clusters"
   ]
  },
  {
   "cell_type": "code",
   "execution_count": 570,
   "metadata": {
    "collapsed": false
   },
   "outputs": [],
   "source": [
    "first_date = '2019-01-01 00:00'\n",
    "last_date = '2019-03-01 00:00'\n",
    "\n",
    "sfo_precip_plot = hourly_precip('SFO', first_date, last_date, filter_measurable=False)"
   ]
  },
  {
   "cell_type": "code",
   "execution_count": 571,
   "metadata": {
    "collapsed": false
   },
   "outputs": [],
   "source": [
    "sfo_precip_plot['precip'] = np.where(sfo_precip_plot['precip_in'] > 0, 1, 0)"
   ]
  },
  {
   "cell_type": "code",
   "execution_count": 572,
   "metadata": {
    "collapsed": false
   },
   "outputs": [
    {
     "data": {
      "text/plain": [
       "[<matplotlib.axis.YTick at 0x1812e3340>,\n",
       " <matplotlib.axis.YTick at 0x1812e3220>]"
      ]
     },
     "execution_count": 572,
     "metadata": {},
     "output_type": "execute_result"
    },
    {
     "data": {
      "image/png": "[encoded data removed]",
      "text/plain": [
       "<Figure size 1152x216 with 1 Axes>"
      ]
     },
     "metadata": {
      "needs_background": "light"
     },
     "output_type": "display_data"
    }
   ],
   "source": [
    "import matplotlib.ticker as ticker\n",
    "\n",
    "ax = sfo_precip_plot.plot(x='valid', y='precip', kind='bar', figsize=(16, 3), legend=False)\n",
    "ticklabels = ['']*len(resampled.valid)\n",
    "ticklabels[::24] = [pd.Timestamp(item).strftime('%-d') for item in resampled.valid.values[::24]]\n",
    "ticklabels[0] = 'Jan 1'\n",
    "ticklabels[24*31] = 'Feb 1'\n",
    "ticklabels[-1] = 'Mar 1'\n",
    "ax.xaxis.set_major_formatter(ticker.FixedFormatter(ticklabels))\n",
    "ax.set_yticks([0, 1])\n",
    "# plt.gcf().autofmt_xdate()"
   ]
  },
  {
   "cell_type": "code",
   "execution_count": 573,
   "metadata": {
    "collapsed": false
   },
   "outputs": [
    {
     "data": {
      "text/html": [
       "<div>\n",
       "<style scoped>\n",
       "    .dataframe tbody tr th:only-of-type {\n",
       "        vertical-align: middle;\n",
       "    }\n",
       "\n",
       "    .dataframe tbody tr th {\n",
       "        vertical-align: top;\n",
       "    }\n",
       "\n",
       "    .dataframe thead th {\n",
       "        text-align: right;\n",
       "    }\n",
       "</style>\n",
       "<table border=\"1\" class=\"dataframe\">\n",
       "  <thead>\n",
       "    <tr style=\"text-align: right;\">\n",
       "      <th></th>\n",
       "      <th>clust</th>\n",
       "      <th>precip</th>\n",
       "      <th>mean_time</th>\n",
       "      <th>min_time</th>\n",
       "      <th>max_time</th>\n",
       "      <th>max_precip_24hr</th>\n",
       "      <th>max_precip_hr</th>\n",
       "    </tr>\n",
       "  </thead>\n",
       "  <tbody>\n",
       "    <tr>\n",
       "      <th>1774</th>\n",
       "      <td>1774</td>\n",
       "      <td>0.19</td>\n",
       "      <td>2019-01-05 19:40:00.000000000</td>\n",
       "      <td>2019-01-05 14:00:00</td>\n",
       "      <td>2019-01-06 04:00:00</td>\n",
       "      <td>0.19</td>\n",
       "      <td>2019-01-06 04:00:00</td>\n",
       "    </tr>\n",
       "    <tr>\n",
       "      <th>1775</th>\n",
       "      <td>1775</td>\n",
       "      <td>0.17</td>\n",
       "      <td>2019-01-12 02:50:00.000000000</td>\n",
       "      <td>2019-01-11 22:00:00</td>\n",
       "      <td>2019-01-12 08:00:00</td>\n",
       "      <td>0.17</td>\n",
       "      <td>2019-01-12 08:00:00</td>\n",
       "    </tr>\n",
       "    <tr>\n",
       "      <th>1776</th>\n",
       "      <td>1776</td>\n",
       "      <td>1.76</td>\n",
       "      <td>2019-01-16 08:36:25.714285824</td>\n",
       "      <td>2019-01-15 10:00:00</td>\n",
       "      <td>2019-01-17 16:00:00</td>\n",
       "      <td>1.19</td>\n",
       "      <td>2019-01-17 06:00:00</td>\n",
       "    </tr>\n",
       "    <tr>\n",
       "      <th>1777</th>\n",
       "      <td>1777</td>\n",
       "      <td>0.28</td>\n",
       "      <td>2019-01-20 22:54:32.727272704</td>\n",
       "      <td>2019-01-20 11:00:00</td>\n",
       "      <td>2019-01-21 09:00:00</td>\n",
       "      <td>0.28</td>\n",
       "      <td>2019-01-21 09:00:00</td>\n",
       "    </tr>\n",
       "    <tr>\n",
       "      <th>1778</th>\n",
       "      <td>1778</td>\n",
       "      <td>0.48</td>\n",
       "      <td>2019-01-31 07:15:00.000000000</td>\n",
       "      <td>2019-01-31 03:00:00</td>\n",
       "      <td>2019-01-31 11:00:00</td>\n",
       "      <td>0.48</td>\n",
       "      <td>2019-01-31 11:00:00</td>\n",
       "    </tr>\n",
       "    <tr>\n",
       "      <th>1779</th>\n",
       "      <td>1779</td>\n",
       "      <td>1.67</td>\n",
       "      <td>2019-02-03 17:54:13.846153472</td>\n",
       "      <td>2019-02-01 23:00:00</td>\n",
       "      <td>2019-02-05 13:00:00</td>\n",
       "      <td>0.70</td>\n",
       "      <td>2019-02-03 09:00:00</td>\n",
       "    </tr>\n",
       "    <tr>\n",
       "      <th>1780</th>\n",
       "      <td>1780</td>\n",
       "      <td>1.05</td>\n",
       "      <td>2019-02-09 22:39:07.826086912</td>\n",
       "      <td>2019-02-08 20:00:00</td>\n",
       "      <td>2019-02-10 14:00:00</td>\n",
       "      <td>0.58</td>\n",
       "      <td>2019-02-10 14:00:00</td>\n",
       "    </tr>\n",
       "    <tr>\n",
       "      <th>1781</th>\n",
       "      <td>1781</td>\n",
       "      <td>3.08</td>\n",
       "      <td>2019-02-14 14:33:49.090908928</td>\n",
       "      <td>2019-02-13 03:00:00</td>\n",
       "      <td>2019-02-16 17:00:00</td>\n",
       "      <td>1.71</td>\n",
       "      <td>2019-02-14 10:00:00</td>\n",
       "    </tr>\n",
       "    <tr>\n",
       "      <th>1782</th>\n",
       "      <td>1782</td>\n",
       "      <td>0.20</td>\n",
       "      <td>2019-02-17 11:20:00.000000000</td>\n",
       "      <td>2019-02-17 10:00:00</td>\n",
       "      <td>2019-02-17 13:00:00</td>\n",
       "      <td>0.20</td>\n",
       "      <td>2019-02-17 13:00:00</td>\n",
       "    </tr>\n",
       "    <tr>\n",
       "      <th>1783</th>\n",
       "      <td>1783</td>\n",
       "      <td>1.18</td>\n",
       "      <td>2019-02-27 04:56:07.741935360</td>\n",
       "      <td>2019-02-26 08:00:00</td>\n",
       "      <td>2019-02-28 02:00:00</td>\n",
       "      <td>0.90</td>\n",
       "      <td>2019-02-28 02:00:00</td>\n",
       "    </tr>\n",
       "  </tbody>\n",
       "</table>\n",
       "</div>"
      ],
      "text/plain": [
       "      clust  precip                     mean_time            min_time  \\\n",
       "1774   1774    0.19 2019-01-05 19:40:00.000000000 2019-01-05 14:00:00   \n",
       "1775   1775    0.17 2019-01-12 02:50:00.000000000 2019-01-11 22:00:00   \n",
       "1776   1776    1.76 2019-01-16 08:36:25.714285824 2019-01-15 10:00:00   \n",
       "1777   1777    0.28 2019-01-20 22:54:32.727272704 2019-01-20 11:00:00   \n",
       "1778   1778    0.48 2019-01-31 07:15:00.000000000 2019-01-31 03:00:00   \n",
       "1779   1779    1.67 2019-02-03 17:54:13.846153472 2019-02-01 23:00:00   \n",
       "1780   1780    1.05 2019-02-09 22:39:07.826086912 2019-02-08 20:00:00   \n",
       "1781   1781    3.08 2019-02-14 14:33:49.090908928 2019-02-13 03:00:00   \n",
       "1782   1782    0.20 2019-02-17 11:20:00.000000000 2019-02-17 10:00:00   \n",
       "1783   1783    1.18 2019-02-27 04:56:07.741935360 2019-02-26 08:00:00   \n",
       "\n",
       "                max_time  max_precip_24hr       max_precip_hr  \n",
       "1774 2019-01-06 04:00:00             0.19 2019-01-06 04:00:00  \n",
       "1775 2019-01-12 08:00:00             0.17 2019-01-12 08:00:00  \n",
       "1776 2019-01-17 16:00:00             1.19 2019-01-17 06:00:00  \n",
       "1777 2019-01-21 09:00:00             0.28 2019-01-21 09:00:00  \n",
       "1778 2019-01-31 11:00:00             0.48 2019-01-31 11:00:00  \n",
       "1779 2019-02-05 13:00:00             0.70 2019-02-03 09:00:00  \n",
       "1780 2019-02-10 14:00:00             0.58 2019-02-10 14:00:00  \n",
       "1781 2019-02-16 17:00:00             1.71 2019-02-14 10:00:00  \n",
       "1782 2019-02-17 13:00:00             0.20 2019-02-17 13:00:00  \n",
       "1783 2019-02-28 02:00:00             0.90 2019-02-28 02:00:00  "
      ]
     },
     "execution_count": 573,
     "metadata": {},
     "output_type": "execute_result"
    }
   ],
   "source": [
    "sfo_rain_events[(sfo_rain_events.min_time >= first_date) & (sfo_rain_events.max_time <= last_date)]"
   ]
  }
 ],
 "metadata": {
  "kernelspec": {
   "display_name": "weather-env-2",
   "language": "python",
   "name": "weather-env-2"
  },
  "language_info": {
   "codemirror_mode": {
    "name": "ipython",
    "version": 3
   },
   "file_extension": ".py",
   "mimetype": "text/x-python",
   "name": "python",
   "nbconvert_exporter": "python",
   "pygments_lexer": "ipython3",
   "version": "3.8.6"
  }
 },
 "nbformat": 4,
 "nbformat_minor": 4
}
